{
 "cells": [
  {
   "cell_type": "markdown",
   "metadata": {},
   "source": [
    "# Load model"
   ]
  },
  {
   "cell_type": "code",
   "execution_count": 1,
   "metadata": {},
   "outputs": [],
   "source": [
    "from sklearn.externals import joblib\n",
    "from mylib import tokenize\n",
    "\n",
    "model = joblib.load('url_clf.model')\n",
    "vect = joblib.load('url_clf.vect')"
   ]
  },
  {
   "cell_type": "code",
   "execution_count": 2,
   "metadata": {},
   "outputs": [],
   "source": [
    "# www.radsport-voggel.de/wp-admin/includes/log.exe\n",
    "# google.com/search=faizanahad\n",
    "# pakistanifacebookforever.com/getpassword.php/\n",
    "# ahrenhei.without-transfer.ru/nethost.exe\n",
    "# wikipedia.com\n",
    "# www.radsport-voggel.de/wp-admin/includes/log.exe\n",
    "# reg.kmitl.ac.th/\n",
    "# https://www.movie2free.com/"
   ]
  },
  {
   "cell_type": "markdown",
   "metadata": {},
   "source": [
    "# App"
   ]
  },
  {
   "cell_type": "code",
   "execution_count": 4,
   "metadata": {},
   "outputs": [
    {
     "name": "stdout",
     "output_type": "stream",
     "text": [
      "URL input : https://www.movie2free.com/\n",
      "prediction: bad\n",
      "\u001b[6;30;41m-------------------------------------------------------------------------------------------------------------------------------\u001b[0m\n",
      "URL input : google.com/search=helloworld\n",
      "prediction: good\n",
      "\u001b[6;30;42m-------------------------------------------------------------------------------------------------------------------------------\u001b[0m\n",
      "URL input : www.radsport-voggel.de/wp-admin/includes/log.exe\n",
      "prediction: bad\n",
      "\u001b[6;30;41m-------------------------------------------------------------------------------------------------------------------------------\u001b[0m\n",
      "URL input : www.facebook.com\n",
      "prediction: bad\n",
      "\u001b[6;30;41m-------------------------------------------------------------------------------------------------------------------------------\u001b[0m\n",
      "URL input : exit()\n"
     ]
    }
   ],
   "source": [
    "color_dict = {'good': '42', 'bad': '41'}\n",
    "\n",
    "while True:\n",
    "    url = str(input(\"URL input : \"))    # input text\n",
    "    if url == 'exit()': break\n",
    "    \n",
    "    url = vect.transform([url])\n",
    "    predict = model.predict(url)[0]\n",
    "    \n",
    "    print('prediction:', str(predict))\n",
    "    print('\\x1b[6;30;' + color_dict[predict] + 'm' + str('-'*127) + '\\x1b[0m')"
   ]
  },
  {
   "cell_type": "code",
   "execution_count": null,
   "metadata": {},
   "outputs": [],
   "source": []
  }
 ],
 "metadata": {
  "kernelspec": {
   "display_name": "Python 3",
   "language": "python",
   "name": "python3"
  },
  "language_info": {
   "codemirror_mode": {
    "name": "ipython",
    "version": 3
   },
   "file_extension": ".py",
   "mimetype": "text/x-python",
   "name": "python",
   "nbconvert_exporter": "python",
   "pygments_lexer": "ipython3",
   "version": "3.5.5"
  }
 },
 "nbformat": 4,
 "nbformat_minor": 2
}
