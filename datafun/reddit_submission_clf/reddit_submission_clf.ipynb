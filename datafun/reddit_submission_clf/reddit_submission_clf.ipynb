{
 "cells": [
  {
   "cell_type": "code",
   "execution_count": 1,
   "metadata": {},
   "outputs": [
    {
     "data": {
      "text/plain": [
       "'\\nReddit post binary subreddit classificaion (datascience, gameofthrones)\\nUsing tf-idf with decision tree technique  \\nModule: praw, sklearn, pandas, matplotlib, graphviz\\nResult: accurency 100%\\n'"
      ]
     },
     "execution_count": 1,
     "metadata": {},
     "output_type": "execute_result"
    }
   ],
   "source": [
    "\"\"\"\n",
    "Reddit post binary subreddit classificaion (datascience, gameofthrones)\n",
    "Using tf-idf with decision tree technique  \n",
    "Module: praw, sklearn, pandas, matplotlib, graphviz\n",
    "Result: accurency 100%\n",
    "\"\"\""
   ]
  },
  {
   "cell_type": "markdown",
   "metadata": {
    "colab_type": "text",
    "id": "MpLv4IX4TbNs"
   },
   "source": [
    "# Data Manage"
   ]
  },
  {
   "cell_type": "code",
   "execution_count": 2,
   "metadata": {
    "colab": {
     "base_uri": "https://localhost:8080/",
     "height": 173
    },
    "colab_type": "code",
    "id": "jaqfUKcQIex0",
    "outputId": "57a08418-6572-4d39-ac83-35db028f9fbd"
   },
   "outputs": [
    {
     "name": "stdout",
     "output_type": "stream",
     "text": [
      "Requirement already satisfied: praw in c:\\miniconda3\\lib\\site-packages (6.0.0)\n",
      "Requirement already satisfied: prawcore<2.0,>=1.0.0 in c:\\miniconda3\\lib\\site-packages (from praw) (1.0.0)\n",
      "Requirement already satisfied: update-checker>=0.16 in c:\\miniconda3\\lib\\site-packages (from praw) (0.16)\n",
      "Requirement already satisfied: requests<3.0,>=2.6.0 in c:\\miniconda3\\lib\\site-packages (from prawcore<2.0,>=1.0.0->praw) (2.18.4)\n",
      "Requirement already satisfied: chardet<3.1.0,>=3.0.2 in c:\\miniconda3\\lib\\site-packages (from requests<3.0,>=2.6.0->prawcore<2.0,>=1.0.0->praw) (3.0.4)\n",
      "Requirement already satisfied: idna<2.7,>=2.5 in c:\\miniconda3\\lib\\site-packages (from requests<3.0,>=2.6.0->prawcore<2.0,>=1.0.0->praw) (2.6)\n",
      "Requirement already satisfied: urllib3<1.23,>=1.21.1 in c:\\miniconda3\\lib\\site-packages (from requests<3.0,>=2.6.0->prawcore<2.0,>=1.0.0->praw) (1.22)\n",
      "Requirement already satisfied: certifi>=2017.4.17 in c:\\miniconda3\\lib\\site-packages (from requests<3.0,>=2.6.0->prawcore<2.0,>=1.0.0->praw) (2018.1.18)\n"
     ]
    }
   ],
   "source": [
    "!pip install praw"
   ]
  },
  {
   "cell_type": "markdown",
   "metadata": {
    "colab_type": "text",
    "id": "uN4_2nc5Nkkl"
   },
   "source": [
    "## Reddit Streaming\n",
    "Get client_id and client_secret: https://www.reddit.com/prefs/apps"
   ]
  },
  {
   "cell_type": "code",
   "execution_count": 3,
   "metadata": {
    "colab": {},
    "colab_type": "code",
    "id": "HXp0IyG9Ixxy"
   },
   "outputs": [],
   "source": [
    "import praw\n",
    "reddit = praw.Reddit(user_agent='hello_world',\n",
    "                client_id='XXXX',\n",
    "                client_secret='XXXX')"
   ]
  },
  {
   "cell_type": "code",
   "execution_count": 4,
   "metadata": {
    "colab": {},
    "colab_type": "code",
    "id": "YyUAg1GEjnDP"
   },
   "outputs": [],
   "source": [
    "def reddit_streming(subreddits, limit):\n",
    "  # data streaming\n",
    "\n",
    "  dataset = {'title': [], 'label': []}\n",
    "\n",
    "  for index, subreddit in enumerate(subreddits):\n",
    "    for submission in reddit.subreddit(subreddit).hot(limit=number):\n",
    "      title = submission.title\n",
    "      label = index  # covert subreddit name to subreddit id\n",
    "      # append data streming from reddit to dataset list\n",
    "      dataset['title'].append(title)\n",
    "      dataset['label'].append(label)\n",
    "      \n",
    "  return dataset"
   ]
  },
  {
   "cell_type": "code",
   "execution_count": 5,
   "metadata": {
    "colab": {},
    "colab_type": "code",
    "id": "7i2fV8gxK7CW"
   },
   "outputs": [],
   "source": [
    "subreddits = ['datascience', 'gameofthrones']\n",
    "number = 1000  # limit setting\n",
    "dataset = reddit_streming(subreddits, number)"
   ]
  },
  {
   "cell_type": "code",
   "execution_count": 6,
   "metadata": {
    "colab": {
     "base_uri": "https://localhost:8080/",
     "height": 34071
    },
    "colab_type": "code",
    "id": "fc1njp59K1RU",
    "outputId": "60430948-4142-4ea2-f219-6bbfb6592ad2"
   },
   "outputs": [
    {
     "name": "stdout",
     "output_type": "stream",
     "text": [
      "{'title': ['DS Book Suggestions/Recommendations Megathread', \"Weekly 'Entering & Transitioning' Thread. Questions about getting started and/or progressing towards becoming a Data Scientist go here.\", 'I love what I do :))) I love data science', '[HIRING] Senior Data Scientist at Reddit', 'How do you interpret the coefficient of a tobit regression?', 'Pramp now allows you to practice data science interviews with other data scientists', 'Has anyone heard from Mckinsey Data Science?', 'How to consolidate a bunch of Jupyter notebooks??', 'A Little bit of Help/Advice', 'What is your preferred approach to parse tons of store receipt (txt) files?', 'Slack Channel for Daily Fantasy Sports and Data Science', 'Predicting Inpatient Admissions Based on Prior Diagnosis, Demographics, Medical Charts, etc.', 'Any tutorials on reinforcement learning application with Python?', \"So, I type stuff into excel, and I use condition formatting and stuff... what's next?\", \"Tutorial on how to load StackOverflow's data dump?\", 'Looking for road condition data', 'I am trying to make an Image classifier using CNN which classifes image into 5 categories. But it is giving only one category for all images', 'Seeking Resume Critique', 'Take database design as Uni elective for a future big data scientist?', 'Problem with class width', 'Beginner Data Scientist Interview Tips', \"Does anyone else dislike the trend of take home 'case studies' for job interviews?\", 'Z-Score Binning Transformation', 'Worfor - Curated list of jobs and internships in AI Industry.', 'Company uses different tech than what I know', 'Books or courses on data science applied to lead acquisition', \"Seen on Twitter. Don't know if I should laugh or cry.\", 'Microsoft Releases Integration between Cognitive Services and Distributed Computing', 'The origins of the job title “data scientist”', 'Help me find love for SAP BO WEBI?', 'How should I download census data for this project?', 'Domain Expertise for Data Science?', 'Best place to find a freelance data scientist?', 'Is Data Robot moving a data scientists cheese', 'Got some some-what disappointing words from my boss / mentor, looking for additional guidance', 'Given a time series of bounded data set, what statistical tool, model or technique should I use to forecast or detect a meaningful change in trend?', 'Managing a chaotic non technical manager', \"Jupyter notebook vs jupyter-lab vdf jupyterhub, what's the diff?\", 'Things About Real-World Data Science Not Discussed In MOOCs and Thought Pieces', 'Doing an interview with Ian Goodfellow. What questions should I ask?', 'Need to build an analytics pipeline for e-commerce startup. Help?!', 'Visiting: Categorical Features and Encoding in Decision Trees', 'Has Tableau improved things at your workplace?', 'Jupyter Lab compared to R Studio', 'The first interactive map that allows you to get the agricultural insights from a global to a field view for Europe and the US. The data has been collected within 3 years and processed by machine learning algorithms. Using our technologies, we are able to give precise statistics and predictions.', 'I have a HackerRank code pair video-conferencing session later this week, what should I expect?', 'Novice looking for directions to solve a data analysis problem', 'regression with variables with different intervals/frequency', 'Concise Cheat Sheets for Machine Learning with Python (and Maths)', 'Internship at Google Brain (healthcare)', 'Project Help', 'Willing to exchange verbal English proficiency for Data Science mentorship/knowledge.', 'BigData Research Question Ideas with ML/AI?', 'Jobs while in college', 'Thorough how-to\\u200b guide on applying Logistic Regression on a dataset (Census Income DataSet)\\u200b.', 'Predictive Analytics', \"Should I tell the website I'm scraping data from that I'm scraping their data?\", 'How do you sell Machine Learning?', 'object detection', 'To get hired as a data scientist, don’t follow the herd.', 'How do free apps stack up to Tableau?', 'The IT part of data science is terrifying. How much IT knowledge do you have to have?', 'Feature Engineering: Building a feature of previous transactions from monthly transaction records?', 'Saving a tf.estimators.Estimator-model', 'Anomaly detection and visualization for multi dimensional data', 'Deploying PyTorch models', 'Pachyderm is hiring a Data Science Evangelist and I thought some of you might be interested', 'Is there such thing as \"theoretical data science\" or \"data science theory\"? Is it just statistics?', 'Awesome survey datsets for your next project.', 'Need book recommendation', \"just have hr write up the job description it's fine\", 'What is the complete work flow of any data science project?', 'Associate two entities through a third entity - No identifyer', 'Data Science Webinar: Recommender Systems - From Simple to Complex - November 15', 'How do people collaborate on a Data Science project/competition', 'Looking for learning strategies.', 'Which tool for this analysis? (small samples/interpretable)', 'How much for an internship remuneration?', 'What sort of questions do you answer in your data science role? What industry are you in?', 'Python Package to Split folders with files (e.g. images) into training, validation and test (dataset) folders.', 'What is data science?', 'Difference between Data Manager and Data Scientist', 'Help with fake app store data analysis', 'What other data- related subs do you all subscribe to?', \"So I've been looking into data science recently and I have to say it fascinates me as a subject. But I don't think my major would be very relevant for getting into it (Information Systems). So what could I do during my last two semesters to perhaps get my foot in the door when I graduate?\", 'Not all data science is ML', \"If you've been wondering about the disappearance of data from our federal databases, here's an excerpt from Michael Lewis' The Fifth Risk which explains what is going on.\", 'How easy it is to transition from survey statistics to data science?', 'What to do with missing data?', 'Giving back to community! Camelot - Tabular data extractor from PDFs. (Opensource)', 'Finding the best planting date automatically with a model?', 'Using python for data analytics at a hospital? HIPAA? Data containing patient info?', 'Looking for Recommended reading on Supply Chain Management Methods', 'Music analytics at Spotify with an emphasis on association type algorithms?', 'Brutally failed an interview today. What are your stories?', \"We're launching a 'Reddit' for Jupyter notebooks\", 'I need some help about RankBoost', '[Newbie] To all the datascientists, how often you you code up a neural network from scratch yourself ?', 'How To Tag If An Address Is \"Fully Complete\"?', 'How to interpret your modelling result', 'Why You Should Play With Darts: Making a Case for Adding Monte Carlo Simulations to your Data Science Toolkit', 'Conferences for early 2019', 'HOW TO SELECT SIGNIFICANT VARIABLES IN A MODEL', 'using data science to analyze CSGO demos? has anyone done it?', 'Uber Data Science Technical Phone Interview', 'Best Python/Jupyter/PyCharm experience + report generation with Pandoc filters', 'The business model of being a data scientist', 'Does anyone know when to expect decision for McKinsey Data Science Intern test?', 'AWS vs GCS', 'The irony of this ad', 'The three kinds of data scientists', 'How does a Data Scientist leverage Social Media to link business customer data with social media follower/user data?', 'Do you recommend d3.js?', 'Has anyone jumped from Finance to data analytics here?', 'Any Data science representations for WSU vs. Oregon', \"For those who've done it: How to land a job at amazon/google/etc?\", 'Approach to identify different characteristics of groups', 'Capacity modeling without a response variable', 'Need help with EV market analysis', 'Are there cloud servers that already have Jupyter Notebooks readily accessible?', 'ODSC West Ticket', 'Highlights of 16 interviews with 16 data scientists from Sebastian Gutierrez’s “Data Scientists at Work”', 'There is a test data generator outhere and has many types of realistic data. Also, it has specific pages for guid, random names, email addreses and password generators. Give it a try!', 'Interview question', 'Is it important to use part-of-speech tagging in NLP and topic modeling?', '[Baseball] Approximating amount of money lost to injury', 'Looking for Professional Data Scientists to Interview', 'Help Using Cosine / Jaccard Similarity for Comparing Dictionaries of Ratings', 'Websites dedicated to data science?', 'So You Want To Learn Python For Data Science !!!', 'Anyone here with experience using PyProm for process mining?', 'Productionalizing models in .net framework', 'OLS Regression: Very large F-statistic, low p value?', 'Need help understanding business value of classification', 'What stops R from being used in production?', 'Simple Linear Regression Output Interpretation', 'Web application for creating labeled datasets', \"xkcd: Modified Bayes' Theorem\", 'Looking for responses to my facial aesthetics survey.', 'Data Science applications on Finance', 'Help needed for my Data Science interview', 'Resources on ML applied to Marketing and Real-time ad bidding', 'Notes and technical questions from interviewing as a Data Scientist in 2018', 'Help while designing my data warehouse', 'Anyone Else Thinking About Current Limitations of Financial Sentiment Analysis?', \"I'm currently working on an NLP project to build a model that can predict what direction someone leans politically based on a few samples of text. Wondering if anyone has some ideas that could lend to a more robust project/model. More details inside!\", 'Ask for a job title change?', '50 free high-quality datasets', 'Any DS interview tips for someone who’s terrible under pressure?', 'HealthyHomes: Predicting local air quality for healthy housing decisions', 'How to turn production data into a valuable consumer product? How can an Industrial IoT create trust between participants in the supply chain? And how can we protect data from its manipulation by manufacturer and data storage?', 'The best data science books: interview with Roger Peng, founder of the Coursera Data Science specialization', 'Is tensorflow framework similar to theano?', 'Walking Challenge - how can you identify cheaters?', 'TakenMind Internship experience?', 'How is DASCA (Data Science Council of America) certification recognition in the world?', 'Too many resources online. Need some help on a place to start.', 'What are some common (or uncommon) mistakes during data management that one should be mindful of?', 'Automatically Price Your Used iPhone', 'McKinsey Round1 Quanthub test Recap', 'Help. Comparing leads and visitors', 'Polyaxon, Argo and Seldon for model training, package and deployment in Kubernetes', 'CV vs Resume for data science positions', 'World recognized Data Science Certification', '[book] Data Science and Predictive Analytics: Biomedical and Health Applications using R (also searchable from LibGen)', 'Apprentice Data Analyst at a Multinational organisation, in terms of next steps for my career where do I stand ?', 'Getting started with PySpark on GCP', 'Question on interpreting survey results (stratified sampling?)', 'Data Analyst Career', 'Remote/Telecommuting Internships', 'Using Image Classification for Automated Property Maintenance Advice', 'ELI5: What is better than ridge regression with Gaussian kernel?', 'Would published research papers let my bad grades slide when going for higher education?', 'GIS vs. Data Science', 'How to export data from Telegram', 'Selling Data... What Do You Guys Think?', 'Some help...', 'As a Data Scientist with coding and analytics skills in your hands, how would you build knowledge about your crush like a pro?', 'Are there any data science camps that offer free tuition for x% of our first annual salary?', 'Chance of American Youth Starting Smoking regression analysis project', 'Are there many data science jobs that allows work from home or remote work?', \"Should I stick with my job or pursue an internship at a well-known company while doing my master's?\", 'Personality prediction with Python', 'Appropriate way to display data regarding GPU Usage?', 'Finding startups — notes on work as a new data scientist in an early-stage VC fund', 'Need some direction with trying to cluster elements by lists of attributes for them', 'Should I drop the PhD?', 'What job can I get while still in undergrad to better prepare me for a career in DS?', 'I want to design Donor Clustering model but cant decide how to do it', '(Critical Thinking) Beneficial proposals changing a current product, standard, service, law, or procedure in Data Science?', \"Confusion about Scipy's stats.norm.interval for calculating confidence interval?\", 'Employability of Applied Math degree: concentration in Computational Math vs. Statistics?', 'What to do with outliers in a time series?', 'The Most in Demand Skills for Data Scientists: What are employers looking for?', 'DS interview help!', 'Peeling back the curtain. The Economist is publishing the data behind their reporting', 'Video Game Play-style and How it Relates to Personality Types. The requirements are in the form.', 'Preparation for the interview - Data analysis', 'Data Science 101 for Stake Holders (non-technical people)', 'Need help with the Software developer challenge for McKinsey.', 'Do you find your work to be meaningful?', 'What kind of industry job can I get with interest in text analysis?', 'Query - Best machine available', 'Understanding Tensorflow with MNIST – Dorian Brown – Finding signal and escaping the noise', 'SelectStarSQL: An Interactive Book for Learning SQL', 'Dataset available of 3,019 Billboard music chart entries with lyrics for 2,840 of them', 'How do you store data long term on the cloud and run data science workflows also on the cloud?', 'Resources for A/B Testing in R', 'Business Process Visualization in Python/Tableau/Excel', 'Fire detection, inferring age from eye movement, and other - Highlights from IEEE International Conference on Image Processing 2018', 'What do you like about graphs?', 'Math knowledge?', 'Assessing regression accuracy, interpretable alternative to RMSE?', \"What's the best way to privately share my portfolio project code with potential employers?\", '[Academic] Public Knowledge and Perceptions of Monoclonal Antibodies Survey [18+]', 'Recommendations for more advanced online excel data analysis/modelling courses', 'Need help with the Quanthub data science challenge for McKinsey.', 'Anyone have (or know someone with) experience as a Data Scientist with Booz Allen?', 'Dealing with a Multi-Class Classification problem', 'Using Facebook Adds Data to Create Smart Audiences', 'RStudio 1.2 Preview: Reticulated Python', 'Am I overthinking a simple problem? Should we proceed with A, B, C, or D?', 'Dataset for Rat Fetus (ultrasound)?', 'Classification algorithm to predict next purchase?', \"What's a more scalable solution than Excel for building predictive models?\", 'R Studio in browser has crashed', 'How much math do you REALLY need for data science?', 'GPU-Accelerated Data Analytics with NVIDIA RAPIDS', 'Request - Best MongoDB Service for Scale', 'What is the best way to find dependence in data?', 'Is it correct to use weight of coefficients for business decision making?', 'Is Word2vec memory and time consuming?', 'Future of the Financial sector in the age of cloud — Google Next Panel Discussion', 'Study Group for Goodfellow\\'s Book \"Deep Learning\"', 'Applying ML to existing rule based processes', 'Criticism of my First SOP For Grad School - Masters of Data Science', 'Why is Wells Fargo hiring so many Data Scientists?', 'Looking for recommendations of Kafka architectures for Machine Learning Practitioners', 'WhatsMyFunction - Help an AI model learn about readability by reverse engineering Python snippets', 'Mckinsey data science technical evaluation', 'Race Car Data Analytics', 'What does the dream recruitment process look like to you?', \"What's the best way to gain enough expertise to win kaggle competitions?\", 'Will data science become automated?', 'Best Practices for Data Science Hackathons?', 'Salaries in Data Science', 'Implementing real-time machine learning models', 'A simple Python workflow for time series simulations', 'Co occurance matrix', '\"Data Visualization: A practical introduction\" - Free draft of a forthcoming textbook on the subject of Data Viz by Kieran Healy. A great read outlining best practices with examples in R.', 'Hipster Activity in the US Quantified!', 'What data-set/project would you recommend for my first data science project?', 'Data science on Android platform', 'Help on building a Complement and Substitute matrix with Transaction data', 'Should I stay at this data analysis job?', 'Resources For Data Scientiest Interested In VC Firms', 'Subject with a strong link between statistics/probability and data science', 'Question: Looking for Resources on Price Optimization Decision Making', 'How to efficiently deal with categorical variables?', 'Feeling a little stuck', 'Using data science for large excel spreadsheets', 'Confidence interval for daily active users (DAU) metric', 'Data Science at MBB', 'Can some data engineers take a look at my GitHub and give me some feedback on couple of simple self projects I did?', 'What are common questions you have?', \"Weekly 'Entering & Transitioning' Thread. Questions about getting started and/or progressing towards becoming a Data Scientist go here.\", 'Visualizing topic and emotion of 10,000 Clemson Football tweets in 3D', 'How many rows of data can R handle?', 'Tweaking Random Forest regression in R', 'The Data Journey: From Data to Knowledge to Intelligence', 'Andrew Ngs ML course', 'Linear Regression Scatter Plot from .csv in Python', 'Is facts table in dimensional model is actually a table of events?', 'Tips on scaling deployments of very large pre-trained models', 'Classification Model with a Temporal Component', 'Announcing MCHT: An R Package for Bootstrap and Monte Carlo Hypothesis Testing', 'Data Engineering / Product BI Division', 'Learn about Data Scientists from the Big Companies (Microsoft, LinkedIn, Apple, etc..)', 'Data Science Interview Questions and Answers', 'Help with Data standardization/verification', 'Data Ethics', 'Predict function in R', 'Forget language preferences and interview tips...what are the videos, articles or tutorials you love that everyone should know about?', 'Advice for Onsite Interview/Take Home Challenge?', 'Selection Bias On Medical Population', 'Looking for a data science book', 'AI apocalypse', 'Help with a tough Data Science interview question', 'The Intro to Data Science course at UC Berkeley is so popular that it has to be taught in a hall.', 'Picking an adequate desktop for entry level work in R', 'The title of \"Data scientist\" is now too vague', 'Can data scientists have neck/hand tattoos at big tech companies?', \"What does 'Bad Code' look like in a Data Science context?\", 'Why is HackerRank / Leetcode a Thing for Data Science?', 'Show reddit: we launched an unlimited data cleaning service', 'Is it possible to collect information about the incoming flight statistics to an airport? Like for example Atlanta,Georgia. I am interested in the source locations and the frequency of flights arriving at Atlanta for the year 2017 and wish to do a basic analysis on this. Thanks in advance.', 'Working with large datasets using pandas. Can someone please ELI5 what is dask?', 'Apriori Algorithm Not working properly in Python', 'Fitting Polynomial Regressions in Python', 'Training models in Java - equivalent to Sklearn?', 'Reviews for datarobot', 'How to get fast at data science', 'Cleaning data - preparing for new exceptions', 'Effect of variable on output', 'How to think like a Data Scientist', 'Data and delivery network optimization for on-demand businesses', 'What is best open source analytics software', 'Lessons Learnt by Facebook Data Scientist Brandon Rohrer', 'How does the Insights in Google Analytics Intellilgence work?', 'Help needed in Clustering (Normalized Cut & Ratio Cut)', 'Experiences Using ClimaCell or Similar For Modeling?', 'What are some important Data Science conferences to follow ?', 'A stats problem', 'IS 2GB NVIDIA Graphic Card good enough for a laptop for data analytics?', 'being new to data science, i wanted to know if there is a way to scale up any regression model or for that matter, any predictive model to predict the values of multiple tuples simultaneously? The data set i am working upon is from the MDG challenge.', 'Exiting a Consultant Data Scientist Role', 'Why do you love data science? Why are you passionate about this field?', 'Why do so many Data Science jobs require familiarity with C++/Java?', 'Data Scientists, What would you buy?', 'Creating a portfolio with published and unpublished data', 'Brazilian E-Commerce Public Dataset', 'How do you come up with ideas for a new project, when you are inexperienced?', 'Data set sources for upper torse body fat percentages for males', 'What is the type of chart called. Bar graph going both left and right', 'I kind of hate my job as a data scientist. Do you like your jobs? Any advice for me?', \"Strava KOM's over time - API access with Python\", 'Is it possible to make a cancer killing nanochip using data science?', 'Data Science Internship Openings', 'Quarterly forecast', 'What should I charge for contracting work?', 'I wrote a script to analyze recent app store review sentiment and generate wordclouds from the results', 'Interpretable, scalable, non-linear - can we have it all? An approach with K-Means (Blogpost)', 'Job Titles', 'I analyzed more than 40,000 YouTube trending videos with Python. Here are the results with the code', 'Need Guidance to do a crunch task', 'Anaconda Distribution 5.3.0 Released! (compiled with Python 3.7)', 'Science Direct Website is Down', 'Is it possible to be a part time data scientist working from home? If so, how would I go about trying to secure such a position?', 'IBM repository for data science, big data and cloud courses (Free Courses, Free badges)', 'KAGGLE PLASTICC TEAM MAKING', 'Data science Bootcamp Training In Bangalore', 'Comparison of the Most Useful Text Processing APIs', 'Facebook Data Scientist, Analytics, Intern process?', 'Domo - Beast Master: Extracting Data after Special Characters', '✨Neuron 1.0: An interactive data science extension for VS Code.', 'Setting up Redshift with PostgreSQL in a VPC', 'Is $50k/year a good salary for entry level data analyst position?', \"We're building a data versioning tool, feedback wanted!\", 'AT&T Labs Graduate Student Symposium CFP', 'My Tutorial Book on Anaconda, NumPy and Pandas Is Out: Hands-On Data Analysis with NumPy and Pandas', 'Structure of a multilayered LSTM neural network?', 'Chromebook Data Science - a free online data science program for anyone with a web browser. · Simply Statistics', \"Weekly 'Entering & Transitioning' Thread. Questions about getting started and/or progressing towards becoming a Data Scientist go here.\", 'Healthcare: Aside from CMS, where do you guys get provider data / accepted insurances?', 'Hackathon this week', 'Question about starting a side gig as a data scientist.', 'Learning Time Series Analysis', 'Does anyone have an example of the structure of a data analysis report produced for a business context?', 'How to Use an LSTM for Timeseries and the Cold-start Problem', 'Data governance course', 'How do you guys maintain your knowledge base?', 'Setting up a server for computation and Tableau?', 'Is datascience a career worth investing?', 'Looking to increase customers adopting services by a minimal % next year. How would you tackle this problem?', 'Does anyone here contribute to open source projects?', '[USEFUL] Collection of good Cheatsheets', 'Started a datascience bootcamp.Need Advice !', 'Why are there so many more Java based jobs rather than python/r?', 'Is coursera a solid, reputable way to learn R programming?', 'What are the best real-time business intelligence, data visualization, dashboard reporting tools?', 'Want to learn commands of linux command line for data science/data engineering jobs', \"Remain data analyst vs pursue ML engineer? Parents' advice appreciated!\", 'Transit Time for Logistics', 'What is the best simple web-based reporting tool for mysql?', 'In-experienced (motivation needed)', 'Hello fellow Redditors, Please give me a \"real world\" problem that i can solve in Data Science.', 'Problem with using predict() on a new data set in R', 'Question about what happens after building a model re: company profit', \"[P] I'm building a data-crowdsourcing platform called Metro. Check it out and help build a sentence-translation open dataset!\", 'Regression Modeling help', 'does anyone know what questions DataKind asks during their interviews with prospective volunteers for their projects?', 'Preprocessing skewed data with minimum value = 0', 'Looking for a data set', '(Andrew Ng) Final few draft chapters of Machine Learning Yearning are out.', 'Is a data science certificate from edX or any similar online learning school sufficient enough for employment in data science? (link inside)', 'Dataframe library for python, pandas alternative', 'Question regarding linear modelling', 'IBM vs Deloitte', 'What other technical skills should I get to complement my R programming in order to get a data analyst internship?', 'How long does it usually take you to complete a personal project?', 'Data Scraping from Websites', 'Realistic DS Salary in London after Maths Phd', 'Deep Learning project using Bootstrapped DQN', \"Jobs for a self-taught data analyst or ML with bachelor's degrees in economics?\", 'Question Regarding R.. Please help', 'Any dendrogram cutting packages in Python or R?', \"The best treatment of Linear Algebra I've ever seen.\", 'GPU bottlenecks. RTX 2070 v GTX 1080?', 'Asking data analytics professional for advice regarding cleaning of large CSV', \"What do I study for a Statistics interview if I haven't taken a statistics course?\", 'Im working on building maps. What are the various use cases data science can help?', 'Business optimization consultant', 'Facebook Data Science, Analytics Internship Interview Advice', 'SQL interview disaster', 'Tips for getting started in freelance data science?', 'Rough Data Transformation Scenario', 'What is the relationship between the softmax and Gibbs function?', 'Java in google colab', 'Python Cheat Sheet (data-centric)', 'Pain points of a data analyst', \"google is providing TPU's in Colaboratory.\", 'MapD has rebranded to OmniSci', 'facebook university recruiter invited me to dinner with the other data science recruiters', 'How to simulate annotator behaviour?', 'Help with building graphs in R', 'Advice request: Viking king death dataset uses?', 'DS/ML Internship Interview Advice Seeking (for Amazon and Pinterest)', 'Python & Mac OS Mojave: any issues?', 'Do I need to learn algorithms and data structures apart from ML algorithms?', \"Intro to time series forecasting with FB's Prophet (forecasting candy production)\", 'Tensorflow in Pyspark', 'What languages would complement R?', 'Contextual Awareness in ANN', \"Moving away from jupyter notebooks to Deployment'\", 'Introduction to Apache Spark with Examples and Use Cases', 'Zen Koans and Life Lessons - a retrospective into my first year as a data scientist', 'Inhouse vs Consulting', 'Can we trust the intuition of AI? – Sankalp Shangari – Medium', 'Desktop vs cloud for deep learning?', 'Accenture Technology Analyst pivot', 'Data science consulting? From actuary to data scientist', 'Getting the most out of AWS', 'Digital Analyst trying to build its own profile.', 'Improving as a Data Scientist', 'Anyone use AWS to host a data science portfolio?', 'Working with website engineers to deploy data products', 'Is it legal and possible to scrape public posts of users on Facebook ?', 'Data Scientist CVs/Resumes', 'Textbook recommendation for “non-statistical” Machine Learning', 'How essential are machine learning skills/knowledge for data science?', 'Udacity Data Analyst', 'Openly licensed extensive Introduction to Supervised Learning with TensorFlow by Lukas Schmelzeisen (2018) including many code examples!', 'Help with C4.5 decision trees', 'What do you think about using javascript for data science?', 'Facebook Data Scientist, Analytics Onsite Interview', 'Identifying Eroding Customers', 'Opportunities in Canada', 'HPAT a (early version) compiler for numpy/pandas programs to high performance MPI binaries', \"What are some of the more impressive/memorable projects you've seen on a resume?\", 'Anti-Money Laundering/Terrorist Financing', 'How to plot 2 dimensional time series trajectories in Matplotlib/MATLAB/R?', 'R to Python: Data wrangling with dplyr and pandas · GitHub', 'Datacamp 50% off worth it?', '[X-Posted From /r/businessintelligence] Seeking BI software recommendations', \"What's a good model for product quality image classification?\", \"Couldn't afford GPUs as a student. Built my own cloud GPU provider: vectordash.com\", \"What's the right statistical tool/method to find significant variables for an multi-group experiment?\", 'Whats Your Exploratory Data Analysis (EDA) SOP, Methods, Tips and Tricks?', 'Wanting insights on other Data Science Markets', 'Question about NLP and lexicon', 'The Certified Data Science Courses to Thrive for', \"Weekly 'Entering & Transitioning' Thread. Questions about getting started and/or progressing towards becoming a Data Scientist go here.\", 'Is automated feature engineering possible in my case?', 'Small question', \"Where to read other people's data science project?\", 'Help needed with r script!', 'CPA Value in Data Science', 'States are using predictive algorithms to determine if children are safe. With their parents.', 'Tackling pollution with AI', 'Microsoft Azure Data Explorer announced today', \"Are the F.B.I.'s Probabilities About DNA Matches Crazy?\", 'Questions on Address Matching, Clustering, and Correction', 'Text classification with a large amount (2k+) of classes?', 'Introducing NimTorch', 'Anyone using JupyterLab and use the text editor?', 'Resources for learning the different cloud analytic platforms?', 'Recruiters and recruiting managers, I have few questions about a potential service', 'HRDAG : A data science for good organisation worth looking into if you are interested', 'Data Science | Python : How to add rows in a DataFrame (using dataframe.append() & loc[] , iloc[]', 'Have you ever had to design an infographic as part of an interview?', 'My Interview with Kenneth Cukier on the rise of Big Data', 'Should I do a dissertation for my Masters program?', 'Help preparing for entry level data analyst jobs', 'Do academic publications help to land jobs in industry Data Science roles?', 'Programming Language R', \"Looking for a mentor in 'R'\", 'Where to find some state-of-the-art time series data deep learning approaches?', 'How do I get practical experience with big data technologies (Hadoop MapReduce, Apache Spark, Hive, Bigquery, etc)?', 'Simple Python/Command Line image dataset labeling tool?', 'What is the best source/book to learn statistics/mathematics behind ARIMA/ARIMAX model?', 'Data Science Project', 'Setting up VS Code for data science.', 'Advice on ETL from API to a Database', 'Course(s) recommendations for data collection, analysis, and visualization', '\"template\" like scripts for R and Python?', 'Regression', 'Need help to get internship as data scientist for summer 2019. What recruitment member expects in grad student? Am I already late to build my profile?', 'How to clean up data with Python', 'A glimpse on DS programs', 'Anyone benchmarked RTX?', 'Data wrangler to data scientist?', 'AWS or pc? Or both? 4 student', 'DS Mentor (Moscow)', 'Appreciate Your Ideas for My Big Social Data Analytics project!', 'Hi! Question about Data Driven Models/ Time Series Models Research', 'Does anyone use Stan in their job?', 'From Humanities/Arts to Data Science?', 'What are some tricks to make sense of data through visualizations.', 'How to study the business side of a data science job?', 'Data Analysis of Dota2', 'Different ways to down sample data that are collected over seconds to a single unit?', 'You didn’t need deep learning to generate new molecules', '4 weeks in to Data Science University..', 'Do Data Science have place in tool/website optimization', 'Questions CFAs of r/datascience', 'Anyone have some suggestions on Data Scientist blogs to follow that are focused in the environmental or outdoor recreation space?', 'What reporting tools in java will you recommend?', 'Help with extracting data', 'Open access tutorial on how to plot beautiful and interpretable networks in R. Create comparisons between multiple networks, meaningfully interpret distances between nodes, etc.', \"Someone help an aspiring employee who's had an epiphany but lacks the implementation know-how\", 'DOMO Alternative for data scientist?', 'XKCD: Curve-fitting methods and the message they send', 'Bitcoin Blockchain Analysis with Python in Spyder?', 'Tool for AB tests - VWO', 'Transitions from data scientist to a supervisor/business engament role sources', 'If you were to choose a capstone project to impress employers today, what would your theme be ? (Anamoly? Classification?) What type of data would you use ?', 'How do you highlight proficiency with programming languages, reporting tools, etc on a resume?', 'Entry-Level Data Analyst Technical Interview Questions', 'Hotel Budgeting', 'Make Python Pandas go fast', 'Which of those laptop suitable most for an Data Analyst?', 'Big Data Belfast 2018', 'Predicting customer churn - An e-commerce site dataset', 'I am hiring for a heavy data prep position (remote). What skills and knowledge should the person have?', 'Predicting house price: what to do with zip code?', 'To what degree is data science a solitary job?', 'How to run a Monte Carlo simulation on a pandas timeseries?', 'How should I structure a big data cleaning workflow?', 'Next Steps in my Career', 'Processing Sensor Data', 'Data Science at startups...anyone have any experience?', 'Anyone benchmarked RTX cards yet?', 'Graph Database Design and Implementation', 'What ongoing trainings would you recommend?', 'Grocery prices data?', 'Is Research Assistant work considered professional experience?', 'Deploying a machine learning model to the web – Cambridge Spark', '\"In God we trust; all others bring data.\" - W. Edwards Deming', 'Papers that Analyse Healthcare Datasets for Data Science MD thesis', 'Which DataCamp courses to focus on?', 'ThoughtSpot Reviews?', 'Where could I find good case studies to read up on?', 'My Interview with Tim Harford on Misleading Statistics, Naive Predictions and Sticky Research (x-post r/statistics)', 'Test word embedding biases yourself', 'How much programming does a data scientist do at their job?', 'How long would it take you (professional-level Data Scientist) to complete these projects?', 'Facebook Data Science Internship Interview Advice', 'Why use bagged trees over Random Forest?', 'Variable Importance Question', 'Go and analyze twitter they said....', 'What technique or algorithm do you think would be best for predicting subscriptions/transactions?', 'Best Way To Set-Up Local Database?', 'Putting two databases in relation', 'Japanese annotation service (M-turk alternatives)', 'Any DataScience Roadmaps like this ones?', \"Weekly 'Entering & Transitioning' Thread. Questions about getting started and/or progressing towards becoming a Data Scientist go here.\", 'How to organize this data for SQL', 'Moving from GIS to Data Science/Engineering', 'Data analyst job question', 'Anyone Have Experience with EHRs? Specifically PrimeSuite and Cognify.', 'Applying basic NLP / text-mining to texts with girlfriend -- results', 'Help! Researching Competitors in the Hospital Data Analytics Industry', 'Student looking for some advice on my first data science project', 'Clarification request for Bayesian Classifier Example', 'Cross-validating NaN imputation strategy', 'how to do code reviews?', 'Questions regarding Data Analyst Job Description', 'Coding questions in interviews', 'Please explain Count-min sketch(Stream Algorithm) like I am a 5 year old.', 'Nvidia DIGITS object detection accuracy problems.', 'How long do you think hadoop ecosystem, tensorflow and scikit learn will last?', 'Has anyone switched from a Digital Marketing to a Data Science career?', 'Machine Learning Question', 'Is there even a chance at getting a job in data science just by sharing your portfolio and no bachelors degree?', 'Extracting Website Table', 'For those of you that have bachelors degrees in non-STEM fields (or no degree at all) and also have DS jobs, how did you get to where you are and what do you do?', 'Hey /r/DS, I made a research paper recommender for Machine Learning /Computer Science, and I would love for you to try it out! Uses embedding representation for each paper: you can get recommendations of a combo of several papers, and TSNE maps of the recommendations. Easy to run in Google Colab', \"What are alternatives to sklearn's TfidfVectorizer?\", 'Preference on Where to Wrangle Data with python and SQL', 'Where can I find scientific articles about the steps of data management?', 'How is instacart as a firm to work for?', 'Is anyone able to generate a statistics and probability roadmap?', 'recent Math PhD grad - realistic salary and TC', 'Term frequency–inverse document frequency(tf-idf) for Chinese novel/documents implemented in python', 'Please help with Negotiating Salary and General Tips', 'What are some good resources to study demand transference with sample codes?', 'Social Media Management Platform with Reporting API', 'Given a very simple MySQL DB, what is the easiest way to implement a BI Dashboard?', 'A/b testing pricing model', 'Does anyone has experience working as a data scientist infrastructure at Facebook? Is there analytics involved in this position?', 'Is there information on data management best practices?', 'A fast Python implementation of tSNE', 'Working as a Data Science in startups in India', 'kNN USPS Zip Code Help', '[P] New series on data augmentation for object detection - Code + open source augmentation library included', 'Anyone here dealt with Medicare CCLF data?', 'Analyzing the Internet’s Obsession with Photoshopped Images', 'Suggestions on career development needed', 'Classification question', 'The REAL confusion of starting a journey into Data Science', 'Excellent Data Science summary for starters', 'Tech phone screen with Google', 'Best Practice for filling Null Values?', 'Post Data transformation Testing', 'perfect answer 😎', \"We're running a challenge to optimize the scheduling of Swiss trains\", 'Division in the community', 'Looking for an Excel substitute', 'Suggestions for introductory course / tutorial on Recommender Systems?', \"Why don't Boot Camps teach R?\", 'Careers in Data Science that involve minimal social/communicating skills?', 'Help: How to analyze maintenance data in relation to student achievement?', 'Whopper data analysis project ideas', 'Machine Learning India', 'Where does data go?', 'How to stay happy as a Data Scientist', 'Way too much information about Boxplots', 'Resources for writing clean code for data scientists?', 'Probabilistic Matrix Factorization for Personal Recommendation', 'Rules of Machine Learning: | ML Universal Guides | Google Developers', 'PhD \"or equivalent practical experience\". What does the latter imply?', \"Where to find 'real problems' to practice data science and improve hands-on skills?\", '\"We are in the midst of a Third World War\"', 'Feed Forward Layers - FC -> Relu -> FC, What the idea of using them', 'Julia for Probabilistic Metaprogramming', 'Advice for making own website to display portfolio of projects', 'Non-Greedy MARS Regression (Blogpost)', 'How to collect data?', 'Human activity recognition | My first project using CNN', 'Top companies for data science', 'A tool to make NLP with SkLearn a bit less infuriating', 'Windows Deployment Options?', 'Steps of data management', 'How would you analyze Syrian Civil War data? Looking for help on applying algorithms to find insights on datasets', 'What is data manipulation vs data wrangling?', 'Data Science Work Help', 'How to scrape complete metadata record for a given journal?', 'Great Blog post on Setting Up a Dockerized Jupyter Server', 'Make “Fairness by Design” Part of Machine Learning', 'Relational DB vs flat files + python? (D)', 'help with sentiment analysis of unstructured user posts in med. forum', 'How would you approach this business question?', \"Weekly 'Entering & Transitioning' Thread. Questions about getting started and/or progressing towards becoming a Data Scientist go here.\", 'Looking for resources to learn how to launch machine learning models into production systems', 'Data Science in Astronomy', 'Mo Data, Mo Problems. Everyone always talks about wanting more data, but they don’t talk about why they need data science or listen to analyst suggestions. If companies want to stay competitive, then they must invest in the resources to do so and treat data like a commodity.', 'Using Data Science to disrupt the NYC renter real estate market', 'Papers with Code', 'Training data label correction recommendations?', 'Best method for predicting the likelihood of an action based on multivariate time series data?', 'DataScience365 ( A project started recently to explore the concept of Data Science )', 'Anyone have experience parsing hospital data from a CMS in R?', 'Open Source Tools for Dashboard Design', 'Why Data Scientist Change Jobs', 'Very low cost cloud GPU instances (<$0.15/hr) - Vast.ai (BETA)', 'Pipeline Versioning (Open Source / Free) What are the options and recommendations?', 'Data Science and being a Quant: how transferable are the skills?', 'Data Democratization - Data and Analytics Takes a Step Closer to the Masses | Analytics Insight', 'Mathematica is the best tool for data science - change my mind...', 'What tools do you actually use at work?', 'Feature engineering that exploit symmetries can improve model performance! I made some visualizations of this for decision trees to illustrate why this is this case. Anyone aware of/have thoughts on how to take this to the next step?', 'R clustering with maximum size per cluster', 'Get free GPU for training with Google Colab - Detailed Tutorial', '[Cheat Sheet] Snippets for Plotting With ggplot', 'How to use recommender Systems with Multiple \"Ratings\"', \"Please Take This Survey if You're a College Grad and Working In or Pursuing a Career in Analytics!\", 'How useful is a reference letter from an econ prof. for a MS Statistics application?', 'H2O.ai vs Datarobot? Your take', 'Are independent research papers useful for a data science portfolio?', 'Super helpful cheat sheets for Keras, Numpy, Pandas, Scipy, Matplotlib, Scikit-learn, Neural Networks Zoo, ggplot2, PySpark, dplyr and tidyr, Jupyter Notebook', 'Correlation Plot of a correlation matrix ( using R )', 'Step down from Data Scientist in next job- how far down?', 'How do you deal with post-job-interview thoughts and ideas? Share them or let them go to waste?', 'Best Resources To Learn R For Raw Algorithm Implementations', 'What are good products for data science on distributed infrastructure?', 'Super handy MachineLearning Glossary by Google.', 'Virtual assistant data entry service', 'What would be a good algorithm to use to take a list of books read and then find other similar books ?', 'The Power of A Neuron!', 'Where to study Data Science for Environmental Science?', 'Data Entry Services', 'Cheat sheet: Deep learning losses & optimizers', 'Is the business intelligence market getting flooded?', 'What steps you take to figure out Linear Model as appropriate for Machine Learning? Would appreciate sample to your works in github, supporting your explanation, if possible.', 'Github (sort of) for data scientists?', 'Diversity in Data Science?', 'Facebook DS, Analytics Video interview', 'How would you identify top rising comedians from a specific demographic using social media statistics?', 'sklearn SimpleImputer VS Imputer', \"What have y'all been working on recently?\", 'Best Practice - Entity Matching/Most Similar Entity', 'Is anyone here concerned about eventually putting yourselves out of jobs?', 'What are the secrets of data scientists who always get job offers?', 'The many ways to measure economic inequality', 'What hourly rate to charge for a data mining / analysis piece?', 'Google Introduces New Search Engine for Finding Datasets.', 'Guidelines For Ab Testing', 'Sales Pipeline Analytics Resources', 'Introduction to Reinforcement Learning using MXNet 🤖 • r/MachineLearning', 'Best way to study for quant hedge fund interviews?', 'Looking for the right statistical approach to this time series dataset', 'LinkedIn August Work Report: Employers Desperate for Data Scientists', 'Time-Series Anomaly Detection', 'Roles Played by Bayesian Networks in Machine Learning', 'Check', 'Dataset search from Google (beta)', 'Deon: an open source ethics checklist tool for data scientists', 'The feeling of rushing the path/way of learning', 'Data Science roles are ill-defined? Advice : Read the requirements and skills', \"Premier League Data Analysis Since it's inception from 1992\", 'Putting the Power of Kafka into the Hands of Data Scientists', 'Am I headed towards Data Science, Data Analyst, Product Manager, neither?!', 'Looking for a reliable source for historic and current album sales data.', 'Trying to understand Search Algoritms', 'Genetic Algorithms: Solving the N-Queens problem', 'The 3 Pillars of Data Science - The Choice to Pursue Communication or Tech', 'What data science courses/s you found best for you?', 'Combining low- and high-dimensional models into one', 'Is there a Data Science ready Ubuntu (or with another distro) ISO that I can use to speed up the set up process?', 'Anyone doing R stuff on JupyterLab?', 'From Pandas to Scikit-Learn — A new exciting workflow', 'High level description of best algorithm(s) for particular applications?', 'PyCM: Multiclass confusion matrix library in Python', 'Deploying Data Statistics on the Webpage', 'Missing value in Random Forest ?', 'Best place to start for theoretical understanding of Natural Language Processing/Text Analytics?', 'Data Science for Genomics?', 'Causal inference using frontdoor adjustment', 'reddit.com/r/antisemitism – NLP and Unsupervised Learning on Reddit', 'Best Online Masters in Data Science and Analytics -- kdnuggets. Ranked by tuition and CIS rank, to approximate Data Science / Analytics', 'LSTM for non-text data', 'Infographics: Who Am I? - Data Scientist', 'Convolutional Neural Networks (CNNs) explained', 'Is there anyway to access D3.js visualizations offline?', 'Conference/bootcamp to learn data science fundamentals - 1 week duration, <2k?', 'Fastest way to learn scikit learn?', 'Employment rates vs working multiple jobs', 'Buying computing infrastructure vs adopting the cloud in data analytics', 'Background in Web Development and Solutions Architect (AWS) and looking to dabble in data science. Thoughts?', 'Databricks - using R & MLeap', 'Kaggle help needed', 'Dataset of GoFundMe urls - interesting text data', 'I’ve been assigned a DS project that has 100s of CSV’s with some having a unique ID to merge on. How would you go about making a loop to join/merge all relevant CSV files?', 'Exploring Decision Trees in Hilbert Space (Blogpost)', 'Can someone explain ARMA Models to me', \"Would you recommend MIT's or Harvard's data science program on edX?\", 'Designing Cities for Data Scientists', 'Workflow when attempting to compare various preprocessing methods?', 'Load irregular data into Python Pandas 50x faster: build your own C++ module using the xtensor-python cookiecutter', 'Engineers Vs. Scientists: Who to Hire in Data Now?', \"Weekly 'Entering & Transitioning' Thread. Questions about getting started and/or progressing towards becoming a Data Scientist go here.\", 'CLV for Continuous purchases and contractor customers', 'How a Firefox Engineer is Using A Deep Convolutional Neural Network to Replicate AlphaZero (X-Post r/statistics)', 'How to compare the Performance of GPU and CPU offered on FloydHub', 'Data Science', 'Building A Master Data Catalog Using Machine Learning (Interview)', 'Interested in acquiring a job as a Data Analyst', 'Looking for a Starting Point in the Field of Data Science', 'Which laptop for AWS (for data science and machine learning)', 'NLP packages for Python?', 'Can you solve a person detection task in 10 minutes?', 'key components of the data scientist toolkit?', 'Is there interest in a fast, indexed JSON database/querying tool?', 'Resume Critique: Data Analyst Transition Data Scientist', 'Issue 3 of Data Science News has been released', \"I'm planning to take up a course in Data Science (Masters), wanted to know how much programming is used in this field\", 'Finding the Best Pokémon Types with PageRank and other Methods', 'Policy on Resume Review ?', 'Does a data scientist solves problems across multiple business domains?', 'New Data Analyst Job', 'Data organization for textual analysis of song lyrics', 'can I be a bad mathematician but a good data scientist?', 'Looking for a framework or some guidance on extracting most common customer complaints from blobs of customer reviews from across websites and blogs.', 'Astrophysics to data science - best way to do this?', 'Machine Learning successes at work', 'Java or Python?', 'Are these responsibilities relevant to Data science?', 'Techniques for forecasting time series data with different regimes', 'Isolation Forests method for detecting anomalies on bivariate data', 'Mathematics for Machine Learning', 'Is a PhD necessary or even beneficial?', 'Opinions on HKU Masters?', \"IBM's Watson problem: Is machine learning over-sold as a cure for all problems?\", 'Daily or Weekly news source for use cases of data science in genetics', 'I need a dataset for a data science competition', \"Excel, SQL, Pandas.... What's The Difference?\", 'Docker for environment mobility?', 'Separated from DS job and taking a month off to make portfolio. What to do about LinkedIn?', 'My company [Holistics.io] is having a free webinar on Embedded Analytics!', 'Crowdsourcing a University Major: What topics and skills should be covered in a Business Data Science Major', 'Is my internship relevant to datascientist field ? If so please give me some insight. (Work detail attached)', 'How to best vizualise a nonlinear funnel?', 'Jupyter notebooks', 'Memory Errors in Batch Image Processing (using OpenCV Sobel Filter)', 'Python Pandas: Tricks & Features You May Not Know', 'How do I combine different groupings of the same data?', 'Example of ML Implementation', 'Market Basket Analysis - Recommendation system', 'Looking to get into data science? Here is an interesting project to put on the resume (python or JavaScript skills required)', 'Best way to clean up user input Addresses?', 'Predicting subcategories along with a category while performing text classification', 'Removing confidentiality notices from emails', 'Data Science Competition to Solve the Cold-Start Problem with Energy Timeseries', 'Questions regarding on Python courses', 'My neural network is 99% accurate, and 100% useless', 'Standard Deviation and Yellow Caution Range', 'Accurately determining the mean hour of day / day of week / month of year', 'Does Logistic Regression deal with compounding features?', 'Does anyone know where do I find specific data science articles for study?', 'Webinar on how online retailer (Rue La La) built their recommendation engine using machine learning models', 'How music affects culture with data science ?', 'Has anyone used Datawatch?', 'Are there any tools that will convert SQL queries from Microsoft Access to SQL readable by SAS?', 'I think this is a very important topic that could use some more definitive answers', \"Data Scientists in insurance or retail...what's your day-to-day like? What sorts of problems are you working on?\", 'Question Regarding Data Transformation & Model Development', 'Simulating Fridge Consumption Data', 'Topic analysis model for python', 'My first analytics project - Customer churn', 'How to import PMML model into spark using pyspark or scala or sparkR?', 'Data science jobs in Finland', 'Taking courses on Udemy for programming in python for data science, not enough exercises/homework question though. Suggestions?', 'Data Structures and Algorithms for Data Scientist Interview', 'calculating signficance levels for a boolean problem', 'Statsmodels OLS Multi-Variable Regression Question', 'Need help with my internship - transport sector predicting fuel usage', 'What is the industry standard for power in the power.prop.test function in R?', 'Introducing ShinyR Knowledge Repo', 'Sources for Python Data Wrangling', 'Prediction model validation using bootstrapping', 'Good Data Collection app', 'Are you actively/passively collecting data off the web, right now?', 'Time traveling with graph databases', 'Best way to work with multiple categories in an array [Pandas, Python]', 'Wrote a blog about the roles a Data Science team needs. Pretty obvious stuff, but often overlooked in my experience...', 'Was searching for freelance data science jobs and found this...', 'Need Help with running exercises from ThinkStats ( by Allen Downey) on Jupyter Notebook', 'Searching for data to answer the question: How much do business majors make per year on average?', 'Where should I write my own program instead of using APIs', 'The Data Incubator: Re-enroll as a Scholar to take the Partial Refund?', 'Using Homomorphic Encryption In Production With Enveil (Interview)', 'Should I switch down from Data Scientist back down to a Data Analyst?', 'Which Data Science/Statistics programs in US accept GMAT as an alternative to GRE?', \"Weekly 'Entering & Transitioning' Thread. Questions about getting started and/or progressing towards becoming a Data Scientist go here.\", 'Just won $500 for a data analysis project - thanks /r/datascience!', 'Can someone help me understand multicollinearity and dummy variable trap?', 'Good for a chuckle : Statistics and Machine Learning in the eyes of /r/coding', \"SMU's latest data science review journal is here, volume 3, from their master's program\", 'Supporting data science', 'How does one make a time series forecast given the assumption that the time series will follow the same pattern as a previously recorded time series?', 'Seeing through the noise with stability selection', 'R vs Excel', 'How often do you use scikit-learn pipelines?', 'Want to know more about the history of the Olympic Games?', 'Learning data wrangling', 'Deep Dive in Machine Learning', 'Starting a Data Science blog about some experiments that I am interested in running, looking for feedback on my first post.', 'Data Science 5 years from now?', 'Simple Python ETL framework?', 'Data analytics projects ideas', '2nd level of a Neural Net', 'Help! Should aspiring data scientists learn SQL?', 'Courses in London?', 'Clothing-Fit Feedback Dataset from Modcloth- EDA and Preprocessing', 'Possible Options for a PhD Student in Experimental Psychology', '[D] Could you help me understand the math of this paper? (x-post from r/MachineLearning)', 'Fast Parallel Data Analysis and Processing in Python with Dask Dataframes', 'Issue 2 - Curious About How To Be A Data Scientist?', 'The Future of Notebooks: Lessons from JupyterCon', 'Form data extraction', 'Has anyone used Random forest in a professional setting?', 'Sources to update new knowledge', \"Resources for dynamic pricing based on consumers' behavior?\", 'Love machine learning and engineering, hate analytics', 'How can you assess your proficiency with a language? Are there any useful standards/guidelines?', 'Clothing-Fitting Feedback Dataset from Modcloth.com and RentTheRunWay.com', 'How did you get your second job as a data scientist?', 'Following someone making a project', 'How Do I Save A Machine Learning Model Using Sklearn', 'How different are data science projects, methods, and solutions from working on Kaggle competitions vs Industry projects, client side?', 'Advice to Break into Data Science from Engineering', 'Newbie here need some advise', 'Da Beave & Faux Reals presentation on \"Bots\" & \"Fake News\" at HOPE conference', 'CO Network is releasing a Science & Tech collaboration network in collaboration with the Machine Learning Society.', '[Spoilers] Share your tips and advice for a Thrones-themed Halloween!', '[SPOILERS] Weekly Rewatch | Season 6 Episode 7: The Broken Man', '[SPOILERS] I JUST WATCHED THE RED WEDDING', '[no spoilers] digital painting I did of Dany!', '[SPOILERS] Daenerys, fan creation by Hikaru Yagi', '[SPOILERS] Never Forget. R.I.P.', '[No Spoilers] Charcoal drawing I did of Dany a while ago. Definitely my best and favorite drawing of mine even though I still need some work :)', '[SPOILERS] 4x02 ending but it’s black and brown, and covered with hair.', '[No Spoilers] A while ago I made some house sigils. Well, I made some more.', '[SPOILERS] A Theory/Prediction on Arya Stark', \"[NO SPOILERS] Who's read for next season ?!\", '[No Spoilers] I made Jon Snow in SoulCalibur VI', \"[SPOILERS] I'm confused. . .\", '[NO SPOILERS] The pumpkin i carved', '[NO SPOILERS] My girlfriend made this Longclaw pommel for her Jon Snow costume!', '[NO SPOILERS] My self-made Game of Thrones backpack.', '[spoilers] was the hand of the king...', '[No Spoilers] Game of Thrones characters (circa Season 2) in Soul Calibur V', '[Spoilers] Why has there not been any talks about potentially putting game of thrones and ASOIAF on Broadway?', '[NO SPOILERS] I crafted a Dragon Egg Chalice as a birthday gift!', \"[SPOILERS] Listen and give your feedback to Melisandre's Resurrection Spell in 6 languages, plus High Valyrian\", '[SPOILERS] Daario Vs The Champion of Meereen...', '[NO SPOILERS] GOT a pinball machine at my workplace!', '[NO SPOILERS] Inktober 2018. My sketch of Jon Snow. Hope you like it.', '[SPOILERS] The two successions', '[Spoilers] Just need to cut the hair...', '[SPOILERS] I’m probably not the first to think this up, but I had an idea for the ending I’ve never seen mentioned before', '[SPOILERS] Game of Thrones - The Great War', '[SPOILERS] Cercei\\'s plan after the \"The Winds of Winter\" events', '[SPOILERS] Game of Thrones ANIME OPENING', '[NO SPOILERS] new Johnnie Walker design', '[No Spoilers] My Arya Stark/Koh the Face Stealer Fan Art', '[No Spoilers] The pumpKing', '[NO SPOILERS] Just finished carving and painting my latest creation, The Night PumpKing.', '[spoilers] Sam the Savior Theif', '[SPOILERS] Who is responsible for the most deaths?', '[spoilers] Should GoT be ...', \"[SPOILERS] Top 14 crackpot/tinfoil predictions I want to see (but probably won't happen)\", '[No Spoilers] Are there more GOT related works i coupd watch?', '[NO SPOILERS] WINTER IS COMING', '[No Spoilers] Game Of Thrones - Light of the Seven Music Box Version | Created in the middle of the night, spontaneously, after reading about music and depression. I just needed to make this.', \"[NO SPOILERS] Jaime's Charge\", '[SPOILERS] How can I get the violin piece of the last 10 minutes of S7E7 ??', '[no spoilers]My Game of Thrones “Sansa” Camo Jacket', '[NO SPOILERS] My Targaryen pumpkin!', \"[NO SPOILERS]I'm not sure if it's because the show is ending, but I'm finding that I have almost 0 excitement for Season 8\", '[Spoilers] Show Sn3 Theory', '[NO SPOILERS] Mariachi of Thrones', '[no spoilers] my Night King pumpkin from 2015', '[SPOILERS] Why did Jamie refuse milk of the poppy when Qyburn was tending to his arm at Harrenhal?', \"[SPOILERS]cersei's firstborn: a mysterious quote from season 4\", '[NO SPOILERS] Do you think we will get trailer for the last season this year ?', '[NO SPOILERS] GoT House Sigils - where can i find them?', '[NO SPOILERS] - 3 Most evil game of thrones characters', '[SPOILERS] Who do you think was more dangerous, Varys or Little Finger?', '[SPOILERS] Podrick will be a strategic general.', '[No Spoilers] A Pumpkin of Ice and Fire', '[SPOILERS] Can somebody explain why Dorne is essentially bad in the show compared to the books?', '[NO SPOILERS] Ygritte, digital drawing by Chong Zhang', '[No Spoilers] Fall is coming', '[No Spoilers] A Preview of Game of Thrones Hockey League', \"[SPOILERS] What is the meaning of Jon Arryn's last words?\", '[NO SPOILERS] I thought my house start pumpkin was pretty impressive', '[spoilers] The deaths of the characters quite ironic. How will remaining characters meet their end?', '[Spoilers] What does Jaime mean by...', '[NO SPOILERS] House Stark', '[NO SPOILERS] Apparently High Septons have names now?', \"[NO SPOILERS] Our GOT pumpkins! Mine's Jon Snow, ft. Khal Drogo and Tyrion!\", \"[SPOILERS] Youtube commenter gives beautiful analysis of Cersei's theme song: Light of the Seven\", '[SPOILERS] Anyone seen a wallpaper worthy version of this around?', \"[Spoilers] Something I've realized from the first book: an early potential plot by the Lannisters\", '[NO SPOILERS] last minute pumpkin inspiration came out better than expected! (It says Winter is Here)', '[No Spoilers] Dragonstone oil painting by Naci Caba', '[No Spoilers] Game of Thrones Review', '[SPOILERS] Bronn || Evil Ways', '[SPOILERS] Would you say that Ramsey or Joffrey is worse?', '[Spoilers] White walker orientation', '[NO SPOILERS] On the last episode of season 7', '[Spoilers] When Season Eight is All Said and Done...', '[Spoilers] Sansa thoughts', '[No Spoilers] Winds Of Winter Song Question', '[LEAKS] Benjen Stark Knew The Truth About Everything ? Game Of Thrones Season 8 (End Game Theory)', '[Spoilers] Battle of the Bastards...', '[NO SPOILERS] For my first cake day (hope I’m using that right) and first post, here’s the real life King’s Landing in Croatia!', '[NO SPOILERS] Got married recently. This was my gift to my wife.', '[No Spoilers] Dire Wolves Print', '[NO SPOILERS] My neighbors Halloween decorations', '[SPOILERS] The Iron Throne, thoughts?', '[SPOILERS] Sansa theory (not really, but)', '[NO SPOILERS] Painted my pc case with the poster from s2', '[NO SPOILERS] The Wolf and the Lion', '[NO SPOILERS] Wife got me a 4D puzzle set for our anniversary!', '[NO SPOILERS] Happy Halloween, Targaryen sigil pumpkin carved by my wife', '[No spoilers] A local land developer obviously appreciates fine television', '[SPOILERS] Ramin Jammin', '[SPOILERS] Azor Ahai identified clearly in the books?', '[SPOILERS] On every rewatch...', '[SPOILERS] Foreshadowing that Sam will be Hand of the King?', '[SPOILERS] One particular theory that would thematically tie together the beginning and end of the story in a hilarious way', '[SPOILERS] Show theory for continuation', \"[SPOILERS] Which other 'main' character is alive? (After Season 7)\", \"[SPOILERS] SHOCKING!!!!! evidence for gendry's mother\", '[SPOILERS] Anyone remeber those synopsis from a while back that some user made from every episode?', '[Spoilers] Are you worried for Season 8 because of Season 7?', '[NO SPOILERS] Not sure if this has been posted before; saw it at my local hardware store today.', '[SPOILERS] Is Michael Sapochnik the best GoT director?', '[NO SPOILERS] I updated the Margaery Tyrell portrait to match the pose and likeness of Natalie Dormer', '[Spoilers] 300 years before A GAME OF THRONES, dragons ruled Westeros. Coming in one month: FIRE & BLOOD, the history of the Targaryens. http://ow.ly/OpAJ50iZsby', '[NO SPOILERS] Question about \"My Lord\" and correct usage of titles.', '[Spoilers] Did S7 feel too \"safe\" and how should S8 be better?', '[NO SPOILERS] Tyrion Lannister, fan creation by Jean-Baptiste Monge', '[No Spoilers] Daenerys Targaryen', '[SPOILERS] Season 4 Episode 1', '[NO SPOILERS]Terrible post-binge-watching blues', \"[Leaks] 'Game of Thrones' shot a reunion special bringing back former cast\", \"[NO SPOILERS] Sorry in advance if this doesn't belong here, but I finally got my Three Eyed Raven chest piece done and I couldn't be happier with it!\", '[NO SPOILERS] Board game tokens SVG images', '[Spoilers] My buddy is a tattoo artist and someone asked him to do Jon Snow', '[Spoilers] The last two Stark reunions were underwhelming', \"[Spoilers] I really hope Daenerys doesn't become Queen at the end of GoT\", '[SPOILERS] House Bolton in Season 5', '[SPOILERS] SHOCKING! gendry may kill the night king', '[SPOILERS] Who is the most hated character in the show? Who is yours?', '[SPOILERS] What changed on your 2nd viewing?', '[NO SPOILERS] My amazing wife has these cornhole boards made! Even come with custom bean bags!', '[SPOILERS] Are the Dornish... Cornish?', '[SPOILERS]Theory about an odd similarity between Jon and Danny.', '[No Spoilers] need help with a quote', '[SPOILERS] Something i have been thinking about for season 8', '[NO SPOILERS] Jon Snow, fan creation by Greg Luzniak', '[Spoilers] The Khal Drogo prophecy', '[No Spoilers] Anyone watch Big Mouth? Liked how the Shame Wizard had a Septa Unella poster in his office (sorry if this is too off topic)', '[NO SPOILERS] After two years of constant practice and drawing, I decided to redraw a portrait of Margaery Tyrell', '[NO SPOILERS] Funko Pop has just rolled out a new boxed set for collectors of GoT figures - The Creators. The writers: Martin, Benioff, Weiss.', '[SPOILERS] Season 2 Episode 8 Jamie Lannister says 3 swordsmen could possibly beat him in a match. Who do you think he was referring to?', '[SPOILERS] Reigns - GoT (game) has launched', '[SPOILERS] Jaime Lannister, the Kingslayer, is Azor Ahai (or at least a representation).', '[SPOILERS] If u were given the choice to kill off either Jon or Dany in s8 who would u kill? And how?', '[NO SPOILERS] Daenerys by Sam Spratt', '[SPOILERS] Westeros map buffs! Cool attention to detail in season 7 episode 3', '[SPOILERS] Did Shae ever really love Tyrion? S3 rewatch musings', \"[Spoilers] Jaimie's arc in the show post S4 has been really messy\", '[Spoilers]. A question about the dire wolves....', '[SPOILERS] Skinchangers', '[SPOILERS] Final season theory/sh*tpost', '[SPOILERS] The constant complaining about...', '[Spoilers] Favourite Scenes?', '[spoilers]... Only two vaylerian steel swords in the capital', '[Spoilers] Who is more likely to die in S8, Jon or Daenerys?', '[SPOILERS] An unsatisfying ending', '[Spoilers] Do you think we will get more info on the Lord of Light or will he remain mysterious?', '[No Spoilers] IMDB’s trivia section states that Lena Headey and Jerome Flynn both had a clause inserted into their contracts that they were never to share scenes and must remain apart in set. Is this true? Did it actually play out?', '[NO SPOILERS] Had this awesome cake for my birthday', '[SPOILERS] - Favorite Music from the Series', '[NO SPOILERS] My birthday cake made by my sister', \"[Spoilers] If Arya's ending is anticlimactic I'm done\", '[SPOILERS] So...about that Prophecy.', '[Spoilers] Jon Snow analysis', '[Spoilers] What if the NK is trying to....', '[SPOILERS] Whats everyones personal saddest moment in the show?', '[NO SPOILERS] Tywin of House Lannister, acrylic', '[Spoilers] Tywin Lannister is the best antagonist this show ever had', '[NO SPOILERS] Reigns GOT should be out on Android (IOS as well i think) today.', '[Spoilers] I still believe the biggest reveal is yet to come in S8...', '[NO SPOILERS] On the dock in Kings Landing. This place is amazing.', '[SPOILERS] Dragonstone concept art by Karakter design in Copenhagen', '[SPOILERS] Sansa or Dany- Who is the better character?', '[SPOILERS] Animals in GoT … Nymeria and Viserion', \"[NO SPOILERS] Sean Bean Hopes for 'Game of Thrones' Prequels\", '[SPOILERS] This is why famous zig-zag move WASN\\'T as smart as \"experts\" say.', '[NO SPOILERS] Drawing of all the houses my girlfriend made, finally got it framed!', '[NO SPOILERS] Is the wall made of ice?', '[Spoilers] My theory on how this whole thing will end', '[SPOILERS] Hidden major roles ?', \"[SPOILERS] The one body the Night's Watch failed to burn...\", '[Spoilers] To betray or not to betray', '[NO SPOILERS] the greyjoys have the best looking outfit especially with their really long scarf', '[SPOILERS] Season 7: Benjen Stark is literally the only character whose relationship to Jon Snow is exactly what he believes it to be.', \"[Spoilers] What's the reasoning behind the shorter seasons?\", '[SPOILERS] Anyone else think that every season of GoT is overall good?', \"[SPOILERS] questioning tyrion's intentions\", '[SPOILERS] Show Ending Odds', '[NO SPOILERS] - GOT cover music', '[SPOILERS] Possible ending Scene', \"[NO SPOILERS] Name an actor/actress you wish would've been a part of Game of Thrones\", '[SPOILERS] Sneaky \"little\" bird', '[No Spoilers] I pity the teenage/adults who haven’t watched GoT yet. Or won’t untill after s8.', '[NO SPOILERS] House stark inspired side of the cooler i made for formals this weekend!', '[SPOILERS] Fan theory about Aerys II Targaryen', '[SPOILERS] Bronn Theories', '[NO SPOILERS] Jon Umber, the Greatjon - from A Song of Ice and Fire Miniature Game. Painting the wait away for S8!', '[Spoilers] One year ago today we lost Roy Dotrice, Pyromancer Hallyne actor and ASOIAF audiobook narrator.', '[spoilers] Shire Post Mint Game Of Thrones Coins', '[NO SPOILERS] Argument time! Who would be the most entertaining or deserving of the iron throne? Any character is eligible and you can also choose their hand if you want!', '[No Spoilers] Since it snowed pretty good yesterday I made my cat a Stark cloak.', '[Spoilers] Fancy yourself as a Maester? Come along to our GoT trivia on Discord this Saturday!', '[NO SPOILERS] Who the heck is this in this GoT calendar?', '[Spoilers] Aside from the Targaryens and Baratheons, is there any kind of hierarchy to the Great Houses?', '[SPOILERS] There will be a lot of character arcs coming to an end this next season...If one of your beloved characters ends up dead, how would you like them to go out?', '[Spoilers] Why is the Night King going south personally?', '[SPOILERS]Baratheon lands ?', '[NO SPOILERS] Took this awesome picture Sunday night in Toronto!', '[NO SPOILERS] finally get to use my Hand of the king wax seal! Using it on wedding invites.', '[NO SPOILERS] \"you\\'ll be ruling over a graveyard....if we dont defeat the night king\"', '[SPOILERS] Red Woman in Ep. 7 S. 4?', \"[SPOILERS] Recording my SO's reactions\", '[Spoilers] Random prediction about Jorah Mormont', '[SPOILERS] Eng Game Theory', '[NO SPOILERS] Costume ideas?', '[No Spoilers] VelociPodcast does Game of Thrones', '[Spoilers] Jon Snow gets the most epic episodes', '[NO SPOILERS] Posted this costume awhile ago but finally it to wear it to the Ohio Renaissance Festival, hope you enjoy! Last post was flagged for spoilers in the title??', '[No Spoilers] A Song Of Bookends For An Unfinished Fantasy Story', '[Spoilers] How would you improve each season of GoT? What would you change?', '[NO SPOILERS] Where is the chart someone created of the projected Winds of Winter release date, based on previous release years?', '[NO SPOILERS] Finished watching for the first time.', \"[NO SPOILERS] Game of Thrones chess set: SHUT UP AND TAKE MY MONEY! (don't get excited, nobody is selling them yet)\", \"[Spoilers] Peter Dinklage Hints at a Grim Fate For Tyrion at the End of 'Game of Thrones'\", '[NO SPOILERS] Just got this awesome lamp for our new theater room!', '[No Spoilers] What is your bastard name?', '[No Spoilers] Went to GoT concert live tonight in Toronto, Canada! It was epic!', '[SPOILERS] Is anything planned for Varys?', '[SPOILERS]S1E6 lostlink presents Andrea’s Favorites as of Season 1 Episode 6', '[SPOILERS] New Talking Thrones video about the Night King', \"[SPOILERS] Let's play a game; recount all the lies Littlefinger has told, to anyone, throughout the series . . .\", '[SPOILERS] Now that winter is here, I wish they would show us the Winter Town outside the walls of Winterfell', '[SPOILERS] In hindsight this scene explained why Meryn Trant had no issues with beating Sansa.', '[NO SPOILERS] I was Daenerys for Halloween last year. Everyone thought I was Elsa.', '[NO SPOILERS] Geek Chic', '[Spoilers] Which characters do you hate (even if they are well written)?', \"[SPOILERS] Are any of Khal Drogo's original blood riders still with Dany? (in the show only)\", \"[Spoilers] Anyone else get bored with Dany's story after S1?\", '[spoilers] “Can a man still be brave if he’s a afraid?”', '[NO SPOILERS] White Walker and Mother of Dragons, one to drink and one to keep of each 😎', '[NO SPOILERS] Northerner costume/cosplay tips?', '[SPOILERS] Reoccurring characters with little back story. Is it intentional?', '[NO SPOILERS] Daenerys, digital drawing by Gavin Wynford', '[Spoilers] Who should rule Westeros at the end of GoT?', '[SPOILERS] Dorne', '[SPOILERS] Weekly Rewatch | Season 6 Episode 6: Blood of My Blood', '[NO SPOILERS] Jamie lannister vs Robb Stark full unseen battle of whispering wood', '[NO SPOILERS] Targaryen Sigil Stencil for parking spot made with X-Acto Knife', '[NO SPOILERS] Drew the Titan of Braavos for Inktober', \"[NO SPOILERS] I went to Dorne today ya'll\", '[NO SPOILERS] Lost, apparently hilarious SNL Digital Short from 2012 - \"Why is there so much nudity in Game of Thrones?\" Appears to have been removed from the internet following copyright dispute. Anyone have a copy / working link?', '[NO SPOILERS] new ink, house targaryen forever!', \"[Spoilers] Tyrion's confession may go down as one of the most captivating speeches ever portrayed.\", '[Spoilers] Jaime and his hands', \"[SPOILERS] Why didn't Tywin ever remarry?\", '[Spoilers] Arya and the Hound in season 8', '[No Spoilers] Just finished this cross stitch for my mum’s birthday!', '[NO SPOILERS]Does anyone have an HD version of this picture?', '[No Spoilers] Ramin Djawadi, the creator of all the music in GoT, playing “Dracarys” live on an electric guitar. Legend.', '[NO SPOILERS] Daenerys Targaryen, realistic tattoo by Nastasya Ustinova', '[NO SPOILERS] GOT Theme Music by Mujeeb Ruzik on the top of Gondogoro la, Pakistan, 5600m height pass in Baltoro Glacier making us swoon! Instrument name is “Rubab”', '[NO SPOILERS] What if ASOIAF/Game of Thrones took place in a different setting?', '[SPOILERS] UK fans, what time will you watch GOT when it comes back?', \"[No Spoilers] I'm trying to combine two of my interests, LEGO and AGOT. I've made miniature Winterfell, Dragonstone and Meereen to start my own little GOT skyline. Hope you all like it.\", '[No Spoilers] Jon Snow, Wood Burning. 7”x12”', '[NO SPOILERS] Stickers I made of my favorite characters', '[SPOILERS] Are there more dragon eggs in Asshai?', '[Spoilers] Did this for my mother on her birthday!', '[SPOILERS] Game of Thrones/ASOIAF Theories | Fire and Blood Excerpt Breakdown | Part 1', '[NO SPOILERS] Lord Friendzone and Queen Kelly C. Homemade Cosplay', '[Spoilers] since everyone is showing off their GoT wood burnings here’s one of mine.', '[NO SPOILERS]A 16th century map of the English county of Somerset, the inspiration for the Reach in A Game Of Thrones', '[SPOILERS] Digital artwork of John Snow and Daenerys', '[no spoilers] Drogon, Rhaegal, Viserion & Viserion gone wild. Can you tell which is which? I’m worried they look about their colour and likeness but if you guys like these then I know I’ve done a good job 😀', '[SPOILERS] (GoT) Jon Snow | The Wolf Who Breathes Fire', '[NO SPOILERS] GOT wood burning I did.', \"[NO SPOILERS] What's your favorite couple in Game of Thrones ?\", '[NO SPOILERS] Toronto GOT Live Concert', '[Spoilers] How high do you rank Game of thrones?', \"[SPOILERS] Why didn't Ned demand trail by combat?\", '[SPOILERS] What’s your favorite House?', '[SPOILERS] The beginning and ending shots of SE5E08 are framed similarly and look spooky side by side', '[SPOILERS] I’ve got to say, David Bradley’s role as Walder Frey is an unsung, quite memorable villain.', '[No Spoilers] I know where I’m going for study abroad!', '[Spoilers] The twist', '[SPOILERS] WAR OF ROSES AND GAME OF THRONES ENDING THEORY', '[NO SPOILERS] To maintain secrecy, the ‘Game of Thrones’ crew will kill your drone if it gets too close', '[SPOILERS] The Hound', '[NO SPOILERS] Work-in-progress Jon Snow, getting hyped for final season!', \"[SPOILERS] I like how Ned's presence is still felt in the show\", '[Spoilers] Who would you say are the best and worst actors of GoT?', '[NO SPOILERS] my first rewatch', '[SPOILERS] What was the narrative explanation for this scene', '[No Spoilers] When will Thrones be at Comic Con?', '[SPOILERS] Nightfort Theory...', '[Spoilers] Game of Thrones gets even better on a rewatch', '[Spoilers] S2 is one of the weaker seasons', '[Spoilers] Can Bran ever be normal again?', '[SPOILERS] Podrick Payne (book question)', '[NO SPOILERS] Daenerys, fan creation by Nikolas Arroyo', '[Spoilers] My predictions for season 8', \"[No spoilers] Don't you think Ned Stark should had requested a separate dominion for the North and claimed the king in the north after Robert's Rebellion?\", \"[SPOILERS] I don't understand the love for Brienne\", '[No Spoilers] Game of Thrones Percussion Cover', '[No Spoilers] went for the amazing Game of Thrones Concert today', '[SPOILERS] Visions from the flames: precognition, manipulation, or self-fulfillment?', '[Spoilers] Anyone else disliked the High Sparrow story arc?', '[NO SPOILERS] Skyreach, seat of house House Fowler, Dorne.', '[Spoilers] Do you care more about the books or the show?', '[No Spoilers] my cosplay at NYCC. Photographer just sent me this!', '[SPOILERS] Theory: Magic is Back, but not because of Dany’s Dragons.', '[NO SPOILERS] Dog breed names in GoT', '[SPOILERS] Am I the only one who thinks that...?', \"[Spoilers] How would Catelyn have reacted to Jon's true parentage?\", '[No Spoilers] When can we expect a trailer for the final season?', '[Spoilers] what is stopping the white walkers and the zombies from going around the wall?', '[NO SPOILERS] Blind man plays Game of Thrones soundtrack with drum(?)', '[No Spoilers] Attended the Game of Thrones Live Concert Experience Last Night', \"[SPOILERS] The Kingslayer's Arc Prediction (Continued)\", '[SPOILERS] poll - Least favorite character?', '[No Spoilers] Wanted to share my Daenerys Cosplay from NY Comic Con', '[spoilers] why couldn’t the wildlings...', '[Spoilers] Are northerners friendly?', '[SPOILERS] Just finished The Rains of Castamere', '[SPOILERS] what episode was this?', \"[No Spoilers] Figured I'd share my Jon Snow cosplay too!\", '[No spoilers] Jon Snow cosplay', '[NO SPOILERS] The stage today at GoT Live Concert Experience, Detroit. ❄️🔥', '[SPOILERS] Battle of Goldroad', \"[SPOILERS] Why didn't they just execute someone, put them in the box, and wait for them to undie?\", '[SPOILERS] I think Emilia Clarke has gotten better throughout the show', '[NO SPOILERS] Daenerys Targaryen by Rapi', '[SPOILERS] Arya and Sandor Design', '[NO SPOILERS] Pre-Conquest Coins of Westeros', '[NO SPOILERS] Visited the filming location for Winterfell yesterday', '[Spoilers]Could Gilly be a key player?', '[No Spoilers] Heard you like cosplays. Here’s our version of End-Game Jon and Dany.', '[NO SPOILERS] I thought you guys might appreciate this awesome anniversary gift from my wife', '[SPOILERS] Drew Ramsay for Inktober a few days ago. A friend told me to post it here.', '[NO SPOILERS] How many people live at Winterfell?', \"[Spoilers] I'm glad the show has gotten more hopeful and less depressing\", '[SPOILERS] Downhill after ASOS?', '[SPOILERS] Dreamcatcher in GoT? (S02E10)', '[SPOILERS] How do the unsullied lose like that?', '[No Spoilers] Selling 2 tickets for Game of Thrones Live Concert in Columbus, OH at 8pm October 10th', '[NO SPOILERS] TOP 5 STRONGEST CASTLES IN GAME OF THRONES (What do you guys think?)', \"[NO SPOILERS] My Night King jack-o'-lantern! Turned out pretty good.\", \"[Spoilers] Daenerys' immunity to fire and her connection to the dragons\", '[SPOILERS] Worst way to end Game of Thrones', '[Spoilers] Does anyone think Arya could....', '[Spoilers] What is a really good and underrated Chapter in the books you want people to know about?', '[NO SPOILERS] I cosplayed Daenarys at NYCC', '[SPOILERS] The villians in this show are let off way too easy', \"[SPOILERS] Who's your most destructive pair and why?\", '[SPOILERS] Theory', '[No Spoilers] Why is she Cersei Lannister?', '[No Spoilers] Game of Thrones blanket i crocheted and attached fleece to.', '[Spoilers] I think I know how it all ends now...', '[SPOILERS] up to end of season 2. Does Daenerys Targaryen not need to breathe?', '[NO SPOILERS] The King’s Road plus a couple of tourists', \"[SPOILERS] I've read a bit of the first book and am considering reading the entire series. The first book so far seems very similar to the TV show. How much do the books and show differ? Are the books better?\", '[NO SPOILERS] a Battle aged Robb Stark, acrylic', \"[Spoilers] Daenerys can't possibly die\", '[Spoilers] Poll results: Which season of Game of Thrones is your favourite?', '[SPOILERS] Hello all, if you had to write a 25 page paper on ~literally~ any topic in the GOT universe, what would you write on?', '[NO SPOILERS] Tought some of you might enjoy my game of thrones shelf <3', '[SPOILERS] Theon Greyjoy', '[SPOILERS] Melisandre’s next move.', '[NO SPOILERS]. Here is the charity pitch video I made for hand carved dragon chair. I hope someone from HBO and GOT see it.', '[Spoilers] Never-before-seen Game of Thrones art depicts origins of Westeros', '[SPOILERS] Laws regarding rape in Westeros and Essos?', '[SPOILERS] What are your favourite excerpts from the Game of Thrones book collection?', '[no spoilers] One of the Children of the Forest and Jon Snow at NYCC', '[SPOILERS]S1E5 lostlink presents Andrea’s Favorites as of Season 1 Episode 5', '[Spoilers] Arya cosplay', '[Spoilers] Question about the Three Eyed Raven and Hodor.', '[NO SPOILERS] The only way to spend Sundays until S8', '[NO SPOILERS] Beric and Thoros design', '[No Spoilers] House Lannister sigil carved on a pumpkin.', '[NO SPOILERS] somewhere in pakistan', '[NO SPOILERS] How To Play the Game Of Thrones Theme (looks cool)', '[NO SPOILERS] Braavos painting on canvas by me.', '[NO SPOILERS] A pastel drawing my gf made. Hopefully you love it as much as I do', '[No Spoilers] A wood burning I did for a friend for her birthday.', '[NO SPOILERS] As seen in Belgium', '[SPOILERS] VALERIAN STEEL THEORY', '[NO SPOILERS] Cross stitch banners. Pattern by Clouds Factory.', '[SPOILERS] S7E2 Stormborn - Citadel Book Sighting... What will Sam discover?', \"[No Spoilers] After reading (half of) Game of Thrones, I decided I wanted the rest of the series in English, lo and behold: the series in gorgeous Leather-Cloth bound (with the original I read, it's twice as big lol)\", '[NO SPOILERS] Leatherbound book set 1-5 I picked up a couple of weeks ago at Lifeline.', '[SPOILERS] What is Specific bit in song used during the trial speech?', '[NO SPOILERS] Jon Snow, pencil drawing by Supershinobi', '[spoilers] An epic edit of John Snow... The watcher on the wall...', '[No Spoilers] Thoughts on first promo/teaser/trailer release and Season 8 premiere', '[SPOILERS] Weekly Rewatch | Season 6 Episode 5: The Door', '[spoilers] New GoT rp, open to everyone', '[No Spoilers] The intro of game of thrones recreated in a video game.', '[SPOILERS] What are your hopes for the last season of GoT?', '[spoilers] Daario Rhaegar connection?', '[NO SPOILERS] Damascus Edition Longclaw & Ice', \"[spoilers] why does the night's watch have so little steel, iron, or bronze armor?\", '[NO SPOILERS] if you have a chance to grab tickets to the Game of Thrones experience jump on them. The entire show is amazing.', '[SPOILERS] Which is your favorite Game of Thrones battle?', '[Spoilers] Rewatching GoT, again shocked at how dumb Ned and Robb were', '[NO SPOILERS] Local food truck', '[No Spoilers] Pyrography on watercolor paper', '[no spoilers] babes and I went to Game of Thrones Live with Ramin Djawadi conducting. Amazing performance', '[no spoilers] Game of Thrones Live', '[SPOILERS] Real important major Sansa question.', \"[NO SPOILERS] Inktober's Day 5 Prompt - Chicken featuring The Hound and chickens\", '[SPOILERS] Is Ramsay low key one of the best battle commander/fighters in the world?', '[No spoilers] They should release the series finale as a pick your own adventure.', \"[Spoilers] This isn't happening to you for a reason. Well, one reason. I enjoy it. (Ramsay fanart)\", '[NO SPOILERS] DIY laser engraver. I think the laser leaves an appropriate burn', '[Spoilers] Was the show more interesting when it focused on politics and the war of the 5 kings?', '[NO SPOILERS] To balance things out one more for (she’s a got goof)', '[NO SPOILERS] Jon Snow, pencil drawing by Helene Kupp', '[Spoilers] Curb your Dothraki', '[No spoilers] Oberyn Martell cosplay', '[No Spoilers] White Walker by Johnnie Walker Before/After Being in the Freezer', '[spoilers] They could have won the battle of basterds', '[SPOILERS] Peter Dinklage Says Final Season \"Ends Beautifully\" for His Character', '[NO SPOILERS] View from my seat at the GoT Experience Concert in Saint Louis tonight. You can see the Iron Throne right there in the middle. Such a cool set.', \"[NO SPOILERS] What color is Robb Stark's hair?\", '[Spoilers] Episode Titles I hope are used in season 8', '[No Spoilers] I started my 4th attempt at watching Game of Thrones 3 weeks ago.', '[NO SPOILERS] Why did Robert Baratheon become king, and not someone else?', '[No Spoilers] I made this Stark Shield while we wait for Season 8 and TWOW. Might be able to do all the houses before the next book comes out...', '[spoilers] in S2E8 Jaime says to Brienne that there are 3 men in Westeros who’d have a chance against him in combat.', '[Spoilers] Joffrey and Tywin..', '[NO SPOILERS] Does anyone know the name of the dissonant/disharmonious season 7 recap music?', '[SPOILERS] Top 16 things I want to see in Season 8', '[no spoilers] Made Westeros map on my Wall', '[SPOILERS] Can we talk about Littlefinger....', '[SPOILERS] The Waif is someone', \"[Spoilers]Arya's weaponry\", '[SPOILERS] Iain Glen/Jorah Interview: Glen wins contest for most annoying teaser', \"[Spoilers] What is Beric Dondarion's Role?\", '[SPOILERS]S8 Conspiracies', '[SPOILERS] What are some major differences between the books and show?', '[Spoilers] How would you improve the last three seasons?', \"[NO SPOILERS] Painted my cousin's favorite houses for his birthday\", \"[Spoilers] Most of Dany's story before S6 feels like filler now\", '[Spoilers]Why did the amount of nudity decrease in GoT?', '[NO SPOILERS] Cool GoT tattoo I got', '[Spoilers] I believe I have figured out the S8 premiere date', '[spoilers] symmetry in slaying wights beyond the wall', '[No Spoilers] What is your favorite official GoT Soundtrack song?', \"[NO SPOILERS] My brother's store just got a new drink.\", \"[spoilers] more than 7 king's guard?\", \"[Spoilers] Which 'main' character would you say had the most tragic life.\", '[spoilers] Jaime and Brienne', '[No Spoilers] summary for clash of kings', \"[Spoilers] Question from a book reader about Robb's wedding\", '[Spoilers] Getting my girlfriend into GoT', '[SPOILERS] Jon Snows True Title', '[spoilers] will Varys betray?', '[SPOILERS] Which main character would you say has had the *best* life?', '[No Spoilers] You have my attention.', '[SPOILERS] My favourite Azor Ahai theory', '[No Spoilers] Left speechless by tonight’s Game of Thrones Live Concert Performance at Madison Square Garden - breathtaking and overwhelming, one of the coolest things I’ve ever experienced', \"[SPOILERS] My predictions for who will die/live and their fates, and would love other people's opinions too!\", '[NO SPOILERS] Nikolaj Coster-Waldau Invites YOU to the Final Game of Thrones Premiere // Omaze', '[SPOILERS] Comic my friend did with a Halloween Easter egg. www.instagram.com/flipsickle', '[Spoilers] the wolves', '[spoilers] why does sir jorah say that \"broadswords\" are designed to penetrate rigid armor?', '[NO SPOILERS] check out this GoT pinball machine I saw at Margaritaville', '[SPOILERS] Discussing past characters: Was Olly justified in his actions?', '[No Spoilers] Jon and Daenerys fanart by Vera Adxer', '[NO SPOILERS] In celebration of the final season of GOT, DIAGEO and HBO are releasing a limited-edition collection of single malt scotch whiskies inspired by the Great Houses of Westeros', '[SPOILERS] An interesting door hold', '[SPOILERS] How many times can you count to seven?', '[NO SPOILERS] LEGO - Game of Thrones Westeros Skyline Architecture (more images, where to get instructions and other info in comments)', \"[SPOILERS] Tyrion and Cersei's relationship in the TV series\", '[No Spoilers] I finished this House Targaryen Banner cross stitch a couple days ago. 14.4k stitches and paperback book for scale.', '[SPOILERS] Theory on Jon in season 8', '[SPOILERS] Started watching GoT again, currently S5. A lot of questions!', '[NO SPOILERS] Which member of the cast do you guys feel likes the show the most?', '[NO SPOILERS] I got commissioned to draw Daenerys so thought of sharing it with you guys too :D whatcha think?', '[NO SPOILERS] I have one episode left and then I have to wait for season 8 like the rest of you fuckers', '[No Spoilers] I have a theory about the book/TV show....', '[No Spoilers] GRR Martin needs help finishing A Dream of Spring', \"[NO SPOILERS] Ser Jorah hints that his fate is 'emotional' in 'Game of Thrones' finale\", \"[SPOILERS] Re-watching the entire series, now knowing the future, really does offer an entirely new perspective on everyone's motivations throughout the show. One of the most surprising to me was Tywin and Tyrion Lannister's relationship as father and son.\", '[NO SPOILERS] Brienne of Tarth 1/6 Scale Figure by threezero', '[NO SPOILERS] Was the rumour that the next season is going to be pushed be 2 months ever confirmed?', '[SPOILERS] \"They are my children!\" Daenerys Targaryen (OC)', '[SPOILERS] How many Ice and Fire analogies can you make?', '[Spoilers] \"Cleganebowl\"', '[SPOILERS] Stark/Targaryen jack-o-lantern with dragon projection in a craft pumpkin!', '[SPOILERS] Tribute video I made on Jaime Lannister. Hope you enjoy!', '[SPOILERS] Sandor Clegane', '[SPOILERS] Did you know there is a Song of Ice and Fire miniatures game?!', '[SPOILERS] King Joffrey', '[SPOILERS] I have some questions about Cersei.', '[SPOILERS] Shire Post Mint is back with a new set of Pre-Conquest coins from Westeros! Find out more on our GRRM-Approved Kickstarter!', '[NO SPOILERS] House Stark Sigil Sketch', '[SPOILERS] For the characters who you think got off too easy...', '[NO SPOILERS] Kit Harington is going to be giving a talk in London on October 13th to chat about all things Game of Thrones', '[No Spoilers] The World of Westeros Series from Cinema Strikes Back', '[NO SPOILERS] Since these seem popular, here is my Targaryen pumpkin from 2 years ago (first attempt - ~5 hours work, or so)', '[Spoilers] My Goodreads review for \"A Game of Thrones\"', '[NO SPOILERS] Just got this in at work thought you folks might like it.', '[NO SPOILERS] Check Out This Drogon Model I Made for Someone', '[NO SPOILERS] Arya’s sword 🗡', '[NO SPOILERS] Why are Jon and Daenerys such controversial characters?', '[No Spoilers] if you had to recast all the characters, who would your choices be', '[No Spoilers] Khalessi and The White Walker King image', '[SPOILERS] Not a fake or a joke: this image is from an HBO press release announcing the new \"White Walker: Limited Edition Blended Scotch Whiskey\" by Johnnie Walker! :o', '[Spoilers] A missing Game of Thrones character is back for more screen time in season 8', \"[SPOILERS] Raymond Terutama's Portrait of House Greyjoy\", '[NO SPOILERS] Never watched the show. Currently reading the book series. What should I do?', '[No Spoilers] A set of coasters I painted about a month ago. House Stark, House Mormont, House Targaryen, and House Lannister. The backs have the Game of Thrones logo. Super happy with how they turned out', '[SPOILERS] My first fan art drawing', \"[No Spoilers]Full List of Scotch Whiskeys Participating in GOT's Single Malt Scotch Whisky Collection\", \"[SPOILERS] Who is the 'main' character of each season and the series overall?\", \"[SPOILERS] Ice, Oathkeeper, and Widow's Wail...\", \"[Spoilers] Why George R.R. Martin Doesn't Watch Game of Thrones Anymore\", '[SPOILERS]S1S4 lostlink presents Andrea’s Favorites as of Season 1 Episode 4', '[SPOILERS] My predictions for the final season', \"[SPOILERS] There's something wrong...\", '[SPOILERS] Some interesting foreshadowing we may have missed', '[SPOILERS] why is Ser Ilyn Payne...', '[NO SPOILERS] What do you think about Lord Glover?', '[NO SPOILERS] Just finished this Daenerys Portrait', '[SPOILERS] My ranking of the best warriors in the TV-Universe. Must fight for the living. Must be alive after Season 7.', '[SPOILERS]jaime actor reveals spoilers?', '[SPOILERS] GRRMs clue in idea for GOT', \"[SPOILERS] Dany's Hair\", '[SPOILERS] Season 6 finale; people who catch symbols and hidden meanings, did they read the books or are they just very observant?', '[SPOILERS] - Possibly Unpopular Opinion', \"[SPOILERS] I think it's a little sad that Tywin only served as Hand for two of the worst kings in history\", '[SPOILERS] Weekly Rewatch | Season 6 Episode 4: Book of the Stranger', '[NO SPOILERS] I am finally finishing my graphic novel \"A Song of Mice and Fur\". Take a look at the cover, I think some of you Ser Pounce fans might like it.', '[NO SPOILERS] Photo I Took In \"the Lord\\'s Kiss\" Cave - For My 7th Cake Day!', '[NO SPOILERS] My Game of Thrones cake I got for my birthday', \"[No Spoilers] I painted this vintage table and decoupaged a GOT map on top! Think I'm in love!\", '[Spoilers] Do you think the show will reveal who Azor Ahai is?', \"[spoilers] about the red woman's necklace\", '[SPOILERS] Which character deaths should’ve happened way sooner/Which characters have avoided death for too long and should be long dead by now? Why?', \"[SPOILERS] Dragon's three heads: An observation\", '[NO SPOILERS] Unseen Westeros Kickstarter', '[NO SPOILERS] I got commissioned to knit the Night King! The result is angry yet snuggly.', '[NO SPOILERS] How can I get back into GoT after an absence of a few years?', '[SPOILERS] Supporters of Cersei and the Lannisters, what is your reasoning?', '[SPOILERS] S7E1 I am unsure if this was a foreshadowing, but both happened in the same Episode', '[SPOILERS] Major Arcana Archetypes Meets Game of Thrones Characters', '[SPOILERS] why GOT gotta do me dirty like that (season 5 finale)', '[NO SPOILERS] I barely know anything about Game of Thrones but I need to know the gist of the first season (?) for a school project', '[NO SPOILERS] Sandor Clegane drawing by Guilherme Silveira', '[SPOILERS] Can we expect that arya stark will be hunted by the faceless mem in season 8?', '[SPOILERS] Is anyone else really disappointed we never got a scene between......', '[SPOILERS] I went to Croatia on my honeymoon and toured the filming locations for Kings Landing and Qarth', '[Spoilers] Rewatching the S1 trailer. Was this stained glass ever in the series? Was it taken from the unaired pilot?', '[NO SPOILERS] Just Got Back From GoT in Concert', '[no spoilers] Starks Throne I made of Horse Shoe Nails. Enjoy!', '[no spoilers] Finally found it! Drinking this on premiere night!', '[Spoilers] When Olly made his big decision', '[NO SPOILERS] When would be the ideal time to go back and start rewatching the whole series in preparation for the last season?', '[NO SPOILERS] Who is the lioness?', '[SPOILERS] I need help finding a certain episode so I can catch up', '[SPOILERS] Question about Robert Baratheon', '[SPOILERS] Magic in Game of Thrones Season 8 ?', '[NO SPOILERS] Cool GoT poster', '[No Spoilers] Audiobook Discovery!', \"[NO SPOILERS] Send a raven to King's Landing. Winter is coming. Fineliner pen on paper.\", '[SPOILERS] Jaime and the army', '[no spoilers] My poor attempt on painting margeary tyrell.', '[NO SPOILERS] I drew a picture of the House Stark wolf for the Mrs. Hope you like it too!', '[NO SPOILERS] Lego GoT figures', '[NO SPOILERS] About the ending of Game of Thrones', \"[Spoilers] So what's up with Shae?\", '[SPOILERS] Handful of questions.', '[Spoilers] I No Longer Like Daenerys....', '[NO SPOILERS] Longclaw', '[NO SPOILERS] GOT Live Experience Concert Setlist', '[NO SPOILERS] Spent 4 hours on this, my first ever mandala art with a little GoT touch. Hope you guys like it.', '[NO SPOILERS] This cool af model of the night king at my uni', '[Spoilers] The younger, more beautiful character to cast Cersei down and take all she holds dear. (Who do you think is the character in the prophecy?)', '[NO SPOILERS] Will a Game Of Thrones go to season 9?', '[NO SPOILERS] Thee Throne for the GOT music concert tonight!', '[Spoilers] Could the throne itself actually save the day?', \"[no spoilers] The cast's concerns about the Ending..\", '[SPOILERS] How I want Jon to find out', '[NO SPOILERS] How loud is the Game of Thrones concert?', '[SPOILERS] WHY IS NOBODY TALKING ABOUT THIS???', '[SPOILERS] Arya missed out big time in Season 2 Episode 5.', '[NO SPOILERS] Someone at work took time out and decorated the cupboards.', '[SPOILERS] why did cersei wait so long to kill', \"[NO SPOILERS] Fan Art Did this sketch of Stark Direwolf many days ago with charcoal and pen, now it's got all messy, but I hope u guys still like it.\", '[SPOILERS] Favorite debunked fan theories', '[NO SPOILERS] Game of thrones trance intro - Armin Van Buuren', '[Spoilers] Sketch of Snow (original content)', '[SPOILERS] Jon & The Hound', '[SPOILERS] Asher Forrester', '[Spoilers] Can We Talk About Biter In The Books', '[SPOILERS] GOT images with lines from other films/TV.', '[SPOILERS] The Weakest Part of Game of Thrones', '[Spoilers] Stannis and Renly', '[SPOILERS] A Very Specific Theory'], 'label': [0, 0, 0, 0, 0, 0, 0, 0, 0, 0, 0, 0, 0, 0, 0, 0, 0, 0, 0, 0, 0, 0, 0, 0, 0, 0, 0, 0, 0, 0, 0, 0, 0, 0, 0, 0, 0, 0, 0, 0, 0, 0, 0, 0, 0, 0, 0, 0, 0, 0, 0, 0, 0, 0, 0, 0, 0, 0, 0, 0, 0, 0, 0, 0, 0, 0, 0, 0, 0, 0, 0, 0, 0, 0, 0, 0, 0, 0, 0, 0, 0, 0, 0, 0, 0, 0, 0, 0, 0, 0, 0, 0, 0, 0, 0, 0, 0, 0, 0, 0, 0, 0, 0, 0, 0, 0, 0, 0, 0, 0, 0, 0, 0, 0, 0, 0, 0, 0, 0, 0, 0, 0, 0, 0, 0, 0, 0, 0, 0, 0, 0, 0, 0, 0, 0, 0, 0, 0, 0, 0, 0, 0, 0, 0, 0, 0, 0, 0, 0, 0, 0, 0, 0, 0, 0, 0, 0, 0, 0, 0, 0, 0, 0, 0, 0, 0, 0, 0, 0, 0, 0, 0, 0, 0, 0, 0, 0, 0, 0, 0, 0, 0, 0, 0, 0, 0, 0, 0, 0, 0, 0, 0, 0, 0, 0, 0, 0, 0, 0, 0, 0, 0, 0, 0, 0, 0, 0, 0, 0, 0, 0, 0, 0, 0, 0, 0, 0, 0, 0, 0, 0, 0, 0, 0, 0, 0, 0, 0, 0, 0, 0, 0, 0, 0, 0, 0, 0, 0, 0, 0, 0, 0, 0, 0, 0, 0, 0, 0, 0, 0, 0, 0, 0, 0, 0, 0, 0, 0, 0, 0, 0, 0, 0, 0, 0, 0, 0, 0, 0, 0, 0, 0, 0, 0, 0, 0, 0, 0, 0, 0, 0, 0, 0, 0, 0, 0, 0, 0, 0, 0, 0, 0, 0, 0, 0, 0, 0, 0, 0, 0, 0, 0, 0, 0, 0, 0, 0, 0, 0, 0, 0, 0, 0, 0, 0, 0, 0, 0, 0, 0, 0, 0, 0, 0, 0, 0, 0, 0, 0, 0, 0, 0, 0, 0, 0, 0, 0, 0, 0, 0, 0, 0, 0, 0, 0, 0, 0, 0, 0, 0, 0, 0, 0, 0, 0, 0, 0, 0, 0, 0, 0, 0, 0, 0, 0, 0, 0, 0, 0, 0, 0, 0, 0, 0, 0, 0, 0, 0, 0, 0, 0, 0, 0, 0, 0, 0, 0, 0, 0, 0, 0, 0, 0, 0, 0, 0, 0, 0, 0, 0, 0, 0, 0, 0, 0, 0, 0, 0, 0, 0, 0, 0, 0, 0, 0, 0, 0, 0, 0, 0, 0, 0, 0, 0, 0, 0, 0, 0, 0, 0, 0, 0, 0, 0, 0, 0, 0, 0, 0, 0, 0, 0, 0, 0, 0, 0, 0, 0, 0, 0, 0, 0, 0, 0, 0, 0, 0, 0, 0, 0, 0, 0, 0, 0, 0, 0, 0, 0, 0, 0, 0, 0, 0, 0, 0, 0, 0, 0, 0, 0, 0, 0, 0, 0, 0, 0, 0, 0, 0, 0, 0, 0, 0, 0, 0, 0, 0, 0, 0, 0, 0, 0, 0, 0, 0, 0, 0, 0, 0, 0, 0, 0, 0, 0, 0, 0, 0, 0, 0, 0, 0, 0, 0, 0, 0, 0, 0, 0, 0, 0, 0, 0, 0, 0, 0, 0, 0, 0, 0, 0, 0, 0, 0, 0, 0, 0, 0, 0, 0, 0, 0, 0, 0, 0, 0, 0, 0, 0, 0, 0, 0, 0, 0, 0, 0, 0, 0, 0, 0, 0, 0, 0, 0, 0, 0, 0, 0, 0, 0, 0, 0, 0, 0, 0, 0, 0, 0, 0, 0, 0, 0, 0, 0, 0, 0, 0, 0, 0, 0, 0, 0, 0, 0, 0, 0, 0, 0, 0, 0, 0, 0, 0, 0, 0, 0, 0, 0, 0, 0, 0, 0, 0, 0, 0, 0, 0, 0, 0, 0, 0, 0, 0, 0, 0, 0, 0, 0, 0, 0, 0, 0, 0, 0, 0, 0, 0, 0, 0, 0, 0, 0, 0, 0, 0, 0, 0, 0, 0, 0, 0, 0, 0, 0, 0, 0, 0, 0, 0, 0, 0, 0, 0, 0, 0, 0, 0, 0, 0, 0, 0, 0, 0, 0, 0, 0, 0, 0, 0, 0, 0, 0, 0, 0, 0, 0, 0, 0, 0, 0, 0, 0, 0, 0, 0, 0, 0, 0, 0, 0, 0, 0, 0, 0, 0, 0, 0, 0, 0, 0, 0, 0, 0, 0, 0, 0, 0, 0, 0, 0, 0, 0, 0, 0, 0, 0, 0, 0, 0, 0, 0, 0, 0, 0, 0, 0, 0, 0, 0, 0, 0, 0, 0, 0, 0, 0, 0, 0, 0, 0, 0, 0, 0, 0, 0, 0, 0, 0, 0, 0, 0, 0, 0, 0, 0, 0, 0, 0, 0, 0, 0, 0, 0, 0, 0, 0, 0, 0, 0, 0, 0, 0, 0, 0, 0, 0, 0, 0, 0, 0, 0, 0, 0, 0, 0, 0, 0, 0, 0, 0, 0, 0, 0, 0, 0, 0, 0, 0, 0, 0, 0, 0, 0, 0, 0, 0, 0, 0, 0, 0, 0, 0, 0, 0, 0, 0, 0, 0, 0, 0, 0, 0, 0, 0, 0, 0, 0, 0, 0, 0, 0, 0, 0, 0, 0, 0, 0, 0, 0, 0, 0, 0, 0, 0, 0, 0, 0, 0, 0, 0, 0, 0, 0, 0, 0, 0, 0, 0, 0, 0, 0, 0, 0, 0, 0, 0, 0, 0, 0, 0, 0, 0, 0, 0, 0, 1, 1, 1, 1, 1, 1, 1, 1, 1, 1, 1, 1, 1, 1, 1, 1, 1, 1, 1, 1, 1, 1, 1, 1, 1, 1, 1, 1, 1, 1, 1, 1, 1, 1, 1, 1, 1, 1, 1, 1, 1, 1, 1, 1, 1, 1, 1, 1, 1, 1, 1, 1, 1, 1, 1, 1, 1, 1, 1, 1, 1, 1, 1, 1, 1, 1, 1, 1, 1, 1, 1, 1, 1, 1, 1, 1, 1, 1, 1, 1, 1, 1, 1, 1, 1, 1, 1, 1, 1, 1, 1, 1, 1, 1, 1, 1, 1, 1, 1, 1, 1, 1, 1, 1, 1, 1, 1, 1, 1, 1, 1, 1, 1, 1, 1, 1, 1, 1, 1, 1, 1, 1, 1, 1, 1, 1, 1, 1, 1, 1, 1, 1, 1, 1, 1, 1, 1, 1, 1, 1, 1, 1, 1, 1, 1, 1, 1, 1, 1, 1, 1, 1, 1, 1, 1, 1, 1, 1, 1, 1, 1, 1, 1, 1, 1, 1, 1, 1, 1, 1, 1, 1, 1, 1, 1, 1, 1, 1, 1, 1, 1, 1, 1, 1, 1, 1, 1, 1, 1, 1, 1, 1, 1, 1, 1, 1, 1, 1, 1, 1, 1, 1, 1, 1, 1, 1, 1, 1, 1, 1, 1, 1, 1, 1, 1, 1, 1, 1, 1, 1, 1, 1, 1, 1, 1, 1, 1, 1, 1, 1, 1, 1, 1, 1, 1, 1, 1, 1, 1, 1, 1, 1, 1, 1, 1, 1, 1, 1, 1, 1, 1, 1, 1, 1, 1, 1, 1, 1, 1, 1, 1, 1, 1, 1, 1, 1, 1, 1, 1, 1, 1, 1, 1, 1, 1, 1, 1, 1, 1, 1, 1, 1, 1, 1, 1, 1, 1, 1, 1, 1, 1, 1, 1, 1, 1, 1, 1, 1, 1, 1, 1, 1, 1, 1, 1, 1, 1, 1, 1, 1, 1, 1, 1, 1, 1, 1, 1, 1, 1, 1, 1, 1, 1, 1, 1, 1, 1, 1, 1, 1, 1, 1, 1, 1, 1, 1, 1, 1, 1, 1, 1, 1, 1, 1, 1, 1, 1, 1, 1, 1, 1, 1, 1, 1, 1, 1, 1, 1, 1, 1, 1, 1, 1, 1, 1, 1, 1, 1, 1, 1, 1, 1, 1, 1, 1, 1, 1, 1, 1, 1, 1, 1, 1, 1, 1, 1, 1, 1, 1, 1, 1, 1, 1, 1, 1, 1, 1, 1, 1, 1, 1, 1, 1, 1, 1, 1, 1, 1, 1, 1, 1, 1, 1, 1, 1, 1, 1, 1, 1, 1, 1, 1, 1, 1, 1, 1, 1, 1, 1, 1, 1, 1, 1, 1, 1, 1, 1, 1, 1, 1, 1, 1, 1, 1, 1, 1, 1, 1, 1, 1, 1, 1, 1, 1, 1, 1, 1, 1, 1, 1, 1, 1, 1, 1, 1, 1, 1, 1, 1, 1, 1, 1, 1, 1, 1, 1, 1, 1, 1, 1, 1, 1, 1, 1, 1, 1, 1, 1, 1, 1, 1, 1, 1, 1, 1, 1, 1, 1, 1, 1, 1, 1, 1, 1, 1, 1, 1, 1, 1, 1, 1, 1, 1, 1, 1, 1, 1, 1, 1, 1, 1, 1, 1, 1, 1, 1, 1, 1, 1, 1, 1, 1, 1, 1, 1, 1, 1, 1, 1, 1, 1, 1, 1, 1, 1, 1, 1, 1, 1, 1, 1, 1, 1, 1, 1, 1, 1, 1, 1, 1, 1, 1, 1, 1, 1, 1, 1, 1, 1, 1, 1, 1, 1, 1, 1, 1, 1, 1, 1, 1, 1, 1, 1, 1, 1, 1, 1, 1, 1, 1, 1, 1, 1, 1]}\n"
     ]
    }
   ],
   "source": [
    "print(dataset)"
   ]
  },
  {
   "cell_type": "markdown",
   "metadata": {
    "colab_type": "text",
    "id": "J2X5oz3BNz_D"
   },
   "source": [
    "## Dump to Data Frame"
   ]
  },
  {
   "cell_type": "code",
   "execution_count": 7,
   "metadata": {
    "colab": {},
    "colab_type": "code",
    "id": "YQYn4SGrNwWa"
   },
   "outputs": [],
   "source": [
    "import pandas as pd\n",
    "df = pd.DataFrame(dataset)"
   ]
  },
  {
   "cell_type": "code",
   "execution_count": 8,
   "metadata": {
    "colab": {
     "base_uri": "https://localhost:8080/",
     "height": 136
    },
    "colab_type": "code",
    "id": "xKnKJRKeOmRB",
    "outputId": "90818639-e60d-4da9-e821-4bdc7d035ff6"
   },
   "outputs": [
    {
     "name": "stdout",
     "output_type": "stream",
     "text": [
      "<class 'pandas.core.frame.DataFrame'>\n",
      "RangeIndex: 1488 entries, 0 to 1487\n",
      "Data columns (total 2 columns):\n",
      "label    1488 non-null int64\n",
      "title    1488 non-null object\n",
      "dtypes: int64(1), object(1)\n",
      "memory usage: 23.3+ KB\n"
     ]
    }
   ],
   "source": [
    "df.info()  # data infomation"
   ]
  },
  {
   "cell_type": "code",
   "execution_count": 9,
   "metadata": {
    "colab": {
     "base_uri": "https://localhost:8080/",
     "height": 1969
    },
    "colab_type": "code",
    "id": "LOd-hyHrLEMw",
    "outputId": "cea27b87-a6fd-4935-f36e-8e3d6345f972"
   },
   "outputs": [
    {
     "data": {
      "text/html": [
       "<div>\n",
       "<style scoped>\n",
       "    .dataframe tbody tr th:only-of-type {\n",
       "        vertical-align: middle;\n",
       "    }\n",
       "\n",
       "    .dataframe tbody tr th {\n",
       "        vertical-align: top;\n",
       "    }\n",
       "\n",
       "    .dataframe thead th {\n",
       "        text-align: right;\n",
       "    }\n",
       "</style>\n",
       "<table border=\"1\" class=\"dataframe\">\n",
       "  <thead>\n",
       "    <tr style=\"text-align: right;\">\n",
       "      <th></th>\n",
       "      <th>label</th>\n",
       "      <th>title</th>\n",
       "    </tr>\n",
       "  </thead>\n",
       "  <tbody>\n",
       "    <tr>\n",
       "      <th>0</th>\n",
       "      <td>0</td>\n",
       "      <td>DS Book Suggestions/Recommendations Megathread</td>\n",
       "    </tr>\n",
       "    <tr>\n",
       "      <th>1</th>\n",
       "      <td>0</td>\n",
       "      <td>Weekly 'Entering &amp; Transitioning' Thread. Ques...</td>\n",
       "    </tr>\n",
       "    <tr>\n",
       "      <th>2</th>\n",
       "      <td>0</td>\n",
       "      <td>I love what I do :))) I love data science</td>\n",
       "    </tr>\n",
       "    <tr>\n",
       "      <th>3</th>\n",
       "      <td>0</td>\n",
       "      <td>[HIRING] Senior Data Scientist at Reddit</td>\n",
       "    </tr>\n",
       "    <tr>\n",
       "      <th>4</th>\n",
       "      <td>0</td>\n",
       "      <td>How do you interpret the coefficient of a tobi...</td>\n",
       "    </tr>\n",
       "    <tr>\n",
       "      <th>5</th>\n",
       "      <td>0</td>\n",
       "      <td>Pramp now allows you to practice data science ...</td>\n",
       "    </tr>\n",
       "    <tr>\n",
       "      <th>6</th>\n",
       "      <td>0</td>\n",
       "      <td>Has anyone heard from Mckinsey Data Science?</td>\n",
       "    </tr>\n",
       "    <tr>\n",
       "      <th>7</th>\n",
       "      <td>0</td>\n",
       "      <td>How to consolidate a bunch of Jupyter notebooks??</td>\n",
       "    </tr>\n",
       "    <tr>\n",
       "      <th>8</th>\n",
       "      <td>0</td>\n",
       "      <td>A Little bit of Help/Advice</td>\n",
       "    </tr>\n",
       "    <tr>\n",
       "      <th>9</th>\n",
       "      <td>0</td>\n",
       "      <td>What is your preferred approach to parse tons ...</td>\n",
       "    </tr>\n",
       "    <tr>\n",
       "      <th>10</th>\n",
       "      <td>0</td>\n",
       "      <td>Slack Channel for Daily Fantasy Sports and Dat...</td>\n",
       "    </tr>\n",
       "    <tr>\n",
       "      <th>11</th>\n",
       "      <td>0</td>\n",
       "      <td>Predicting Inpatient Admissions Based on Prior...</td>\n",
       "    </tr>\n",
       "    <tr>\n",
       "      <th>12</th>\n",
       "      <td>0</td>\n",
       "      <td>Any tutorials on reinforcement learning applic...</td>\n",
       "    </tr>\n",
       "    <tr>\n",
       "      <th>13</th>\n",
       "      <td>0</td>\n",
       "      <td>So, I type stuff into excel, and I use conditi...</td>\n",
       "    </tr>\n",
       "    <tr>\n",
       "      <th>14</th>\n",
       "      <td>0</td>\n",
       "      <td>Tutorial on how to load StackOverflow's data d...</td>\n",
       "    </tr>\n",
       "    <tr>\n",
       "      <th>15</th>\n",
       "      <td>0</td>\n",
       "      <td>Looking for road condition data</td>\n",
       "    </tr>\n",
       "    <tr>\n",
       "      <th>16</th>\n",
       "      <td>0</td>\n",
       "      <td>I am trying to make an Image classifier using ...</td>\n",
       "    </tr>\n",
       "    <tr>\n",
       "      <th>17</th>\n",
       "      <td>0</td>\n",
       "      <td>Seeking Resume Critique</td>\n",
       "    </tr>\n",
       "    <tr>\n",
       "      <th>18</th>\n",
       "      <td>0</td>\n",
       "      <td>Take database design as Uni elective for a fut...</td>\n",
       "    </tr>\n",
       "    <tr>\n",
       "      <th>19</th>\n",
       "      <td>0</td>\n",
       "      <td>Problem with class width</td>\n",
       "    </tr>\n",
       "    <tr>\n",
       "      <th>20</th>\n",
       "      <td>0</td>\n",
       "      <td>Beginner Data Scientist Interview Tips</td>\n",
       "    </tr>\n",
       "    <tr>\n",
       "      <th>21</th>\n",
       "      <td>0</td>\n",
       "      <td>Does anyone else dislike the trend of take hom...</td>\n",
       "    </tr>\n",
       "    <tr>\n",
       "      <th>22</th>\n",
       "      <td>0</td>\n",
       "      <td>Z-Score Binning Transformation</td>\n",
       "    </tr>\n",
       "    <tr>\n",
       "      <th>23</th>\n",
       "      <td>0</td>\n",
       "      <td>Worfor - Curated list of jobs and internships ...</td>\n",
       "    </tr>\n",
       "    <tr>\n",
       "      <th>24</th>\n",
       "      <td>0</td>\n",
       "      <td>Company uses different tech than what I know</td>\n",
       "    </tr>\n",
       "    <tr>\n",
       "      <th>25</th>\n",
       "      <td>0</td>\n",
       "      <td>Books or courses on data science applied to le...</td>\n",
       "    </tr>\n",
       "    <tr>\n",
       "      <th>26</th>\n",
       "      <td>0</td>\n",
       "      <td>Seen on Twitter. Don't know if I should laugh ...</td>\n",
       "    </tr>\n",
       "    <tr>\n",
       "      <th>27</th>\n",
       "      <td>0</td>\n",
       "      <td>Microsoft Releases Integration between Cogniti...</td>\n",
       "    </tr>\n",
       "    <tr>\n",
       "      <th>28</th>\n",
       "      <td>0</td>\n",
       "      <td>The origins of the job title “data scientist”</td>\n",
       "    </tr>\n",
       "    <tr>\n",
       "      <th>29</th>\n",
       "      <td>0</td>\n",
       "      <td>Help me find love for SAP BO WEBI?</td>\n",
       "    </tr>\n",
       "    <tr>\n",
       "      <th>...</th>\n",
       "      <td>...</td>\n",
       "      <td>...</td>\n",
       "    </tr>\n",
       "    <tr>\n",
       "      <th>1458</th>\n",
       "      <td>1</td>\n",
       "      <td>[NO SPOILERS] About the ending of Game of Thrones</td>\n",
       "    </tr>\n",
       "    <tr>\n",
       "      <th>1459</th>\n",
       "      <td>1</td>\n",
       "      <td>[Spoilers] So what's up with Shae?</td>\n",
       "    </tr>\n",
       "    <tr>\n",
       "      <th>1460</th>\n",
       "      <td>1</td>\n",
       "      <td>[SPOILERS] Handful of questions.</td>\n",
       "    </tr>\n",
       "    <tr>\n",
       "      <th>1461</th>\n",
       "      <td>1</td>\n",
       "      <td>[Spoilers] I No Longer Like Daenerys....</td>\n",
       "    </tr>\n",
       "    <tr>\n",
       "      <th>1462</th>\n",
       "      <td>1</td>\n",
       "      <td>[NO SPOILERS] Longclaw</td>\n",
       "    </tr>\n",
       "    <tr>\n",
       "      <th>1463</th>\n",
       "      <td>1</td>\n",
       "      <td>[NO SPOILERS] GOT Live Experience Concert Setlist</td>\n",
       "    </tr>\n",
       "    <tr>\n",
       "      <th>1464</th>\n",
       "      <td>1</td>\n",
       "      <td>[NO SPOILERS] Spent 4 hours on this, my first ...</td>\n",
       "    </tr>\n",
       "    <tr>\n",
       "      <th>1465</th>\n",
       "      <td>1</td>\n",
       "      <td>[NO SPOILERS] This cool af model of the night ...</td>\n",
       "    </tr>\n",
       "    <tr>\n",
       "      <th>1466</th>\n",
       "      <td>1</td>\n",
       "      <td>[Spoilers] The younger, more beautiful charact...</td>\n",
       "    </tr>\n",
       "    <tr>\n",
       "      <th>1467</th>\n",
       "      <td>1</td>\n",
       "      <td>[NO SPOILERS] Will a Game Of Thrones go to sea...</td>\n",
       "    </tr>\n",
       "    <tr>\n",
       "      <th>1468</th>\n",
       "      <td>1</td>\n",
       "      <td>[NO SPOILERS] Thee Throne for the GOT music co...</td>\n",
       "    </tr>\n",
       "    <tr>\n",
       "      <th>1469</th>\n",
       "      <td>1</td>\n",
       "      <td>[Spoilers] Could the throne itself actually sa...</td>\n",
       "    </tr>\n",
       "    <tr>\n",
       "      <th>1470</th>\n",
       "      <td>1</td>\n",
       "      <td>[no spoilers] The cast's concerns about the En...</td>\n",
       "    </tr>\n",
       "    <tr>\n",
       "      <th>1471</th>\n",
       "      <td>1</td>\n",
       "      <td>[SPOILERS] How I want Jon to find out</td>\n",
       "    </tr>\n",
       "    <tr>\n",
       "      <th>1472</th>\n",
       "      <td>1</td>\n",
       "      <td>[NO SPOILERS] How loud is the Game of Thrones ...</td>\n",
       "    </tr>\n",
       "    <tr>\n",
       "      <th>1473</th>\n",
       "      <td>1</td>\n",
       "      <td>[SPOILERS] WHY IS NOBODY TALKING ABOUT THIS???</td>\n",
       "    </tr>\n",
       "    <tr>\n",
       "      <th>1474</th>\n",
       "      <td>1</td>\n",
       "      <td>[SPOILERS] Arya missed out big time in Season ...</td>\n",
       "    </tr>\n",
       "    <tr>\n",
       "      <th>1475</th>\n",
       "      <td>1</td>\n",
       "      <td>[NO SPOILERS] Someone at work took time out an...</td>\n",
       "    </tr>\n",
       "    <tr>\n",
       "      <th>1476</th>\n",
       "      <td>1</td>\n",
       "      <td>[SPOILERS] why did cersei wait so long to kill</td>\n",
       "    </tr>\n",
       "    <tr>\n",
       "      <th>1477</th>\n",
       "      <td>1</td>\n",
       "      <td>[NO SPOILERS] Fan Art Did this sketch of Stark...</td>\n",
       "    </tr>\n",
       "    <tr>\n",
       "      <th>1478</th>\n",
       "      <td>1</td>\n",
       "      <td>[SPOILERS] Favorite debunked fan theories</td>\n",
       "    </tr>\n",
       "    <tr>\n",
       "      <th>1479</th>\n",
       "      <td>1</td>\n",
       "      <td>[NO SPOILERS] Game of thrones trance intro - A...</td>\n",
       "    </tr>\n",
       "    <tr>\n",
       "      <th>1480</th>\n",
       "      <td>1</td>\n",
       "      <td>[Spoilers] Sketch of Snow (original content)</td>\n",
       "    </tr>\n",
       "    <tr>\n",
       "      <th>1481</th>\n",
       "      <td>1</td>\n",
       "      <td>[SPOILERS] Jon &amp; The Hound</td>\n",
       "    </tr>\n",
       "    <tr>\n",
       "      <th>1482</th>\n",
       "      <td>1</td>\n",
       "      <td>[SPOILERS] Asher Forrester</td>\n",
       "    </tr>\n",
       "    <tr>\n",
       "      <th>1483</th>\n",
       "      <td>1</td>\n",
       "      <td>[Spoilers] Can We Talk About Biter In The Books</td>\n",
       "    </tr>\n",
       "    <tr>\n",
       "      <th>1484</th>\n",
       "      <td>1</td>\n",
       "      <td>[SPOILERS] GOT images with lines from other fi...</td>\n",
       "    </tr>\n",
       "    <tr>\n",
       "      <th>1485</th>\n",
       "      <td>1</td>\n",
       "      <td>[SPOILERS] The Weakest Part of Game of Thrones</td>\n",
       "    </tr>\n",
       "    <tr>\n",
       "      <th>1486</th>\n",
       "      <td>1</td>\n",
       "      <td>[Spoilers] Stannis and Renly</td>\n",
       "    </tr>\n",
       "    <tr>\n",
       "      <th>1487</th>\n",
       "      <td>1</td>\n",
       "      <td>[SPOILERS] A Very Specific Theory</td>\n",
       "    </tr>\n",
       "  </tbody>\n",
       "</table>\n",
       "<p>1488 rows × 2 columns</p>\n",
       "</div>"
      ],
      "text/plain": [
       "      label                                              title\n",
       "0         0     DS Book Suggestions/Recommendations Megathread\n",
       "1         0  Weekly 'Entering & Transitioning' Thread. Ques...\n",
       "2         0          I love what I do :))) I love data science\n",
       "3         0           [HIRING] Senior Data Scientist at Reddit\n",
       "4         0  How do you interpret the coefficient of a tobi...\n",
       "5         0  Pramp now allows you to practice data science ...\n",
       "6         0       Has anyone heard from Mckinsey Data Science?\n",
       "7         0  How to consolidate a bunch of Jupyter notebooks??\n",
       "8         0                        A Little bit of Help/Advice\n",
       "9         0  What is your preferred approach to parse tons ...\n",
       "10        0  Slack Channel for Daily Fantasy Sports and Dat...\n",
       "11        0  Predicting Inpatient Admissions Based on Prior...\n",
       "12        0  Any tutorials on reinforcement learning applic...\n",
       "13        0  So, I type stuff into excel, and I use conditi...\n",
       "14        0  Tutorial on how to load StackOverflow's data d...\n",
       "15        0                    Looking for road condition data\n",
       "16        0  I am trying to make an Image classifier using ...\n",
       "17        0                            Seeking Resume Critique\n",
       "18        0  Take database design as Uni elective for a fut...\n",
       "19        0                           Problem with class width\n",
       "20        0             Beginner Data Scientist Interview Tips\n",
       "21        0  Does anyone else dislike the trend of take hom...\n",
       "22        0                     Z-Score Binning Transformation\n",
       "23        0  Worfor - Curated list of jobs and internships ...\n",
       "24        0       Company uses different tech than what I know\n",
       "25        0  Books or courses on data science applied to le...\n",
       "26        0  Seen on Twitter. Don't know if I should laugh ...\n",
       "27        0  Microsoft Releases Integration between Cogniti...\n",
       "28        0      The origins of the job title “data scientist”\n",
       "29        0                 Help me find love for SAP BO WEBI?\n",
       "...     ...                                                ...\n",
       "1458      1  [NO SPOILERS] About the ending of Game of Thrones\n",
       "1459      1                 [Spoilers] So what's up with Shae?\n",
       "1460      1                   [SPOILERS] Handful of questions.\n",
       "1461      1           [Spoilers] I No Longer Like Daenerys....\n",
       "1462      1                             [NO SPOILERS] Longclaw\n",
       "1463      1  [NO SPOILERS] GOT Live Experience Concert Setlist\n",
       "1464      1  [NO SPOILERS] Spent 4 hours on this, my first ...\n",
       "1465      1  [NO SPOILERS] This cool af model of the night ...\n",
       "1466      1  [Spoilers] The younger, more beautiful charact...\n",
       "1467      1  [NO SPOILERS] Will a Game Of Thrones go to sea...\n",
       "1468      1  [NO SPOILERS] Thee Throne for the GOT music co...\n",
       "1469      1  [Spoilers] Could the throne itself actually sa...\n",
       "1470      1  [no spoilers] The cast's concerns about the En...\n",
       "1471      1              [SPOILERS] How I want Jon to find out\n",
       "1472      1  [NO SPOILERS] How loud is the Game of Thrones ...\n",
       "1473      1     [SPOILERS] WHY IS NOBODY TALKING ABOUT THIS???\n",
       "1474      1  [SPOILERS] Arya missed out big time in Season ...\n",
       "1475      1  [NO SPOILERS] Someone at work took time out an...\n",
       "1476      1     [SPOILERS] why did cersei wait so long to kill\n",
       "1477      1  [NO SPOILERS] Fan Art Did this sketch of Stark...\n",
       "1478      1          [SPOILERS] Favorite debunked fan theories\n",
       "1479      1  [NO SPOILERS] Game of thrones trance intro - A...\n",
       "1480      1       [Spoilers] Sketch of Snow (original content)\n",
       "1481      1                         [SPOILERS] Jon & The Hound\n",
       "1482      1                         [SPOILERS] Asher Forrester\n",
       "1483      1    [Spoilers] Can We Talk About Biter In The Books\n",
       "1484      1  [SPOILERS] GOT images with lines from other fi...\n",
       "1485      1     [SPOILERS] The Weakest Part of Game of Thrones\n",
       "1486      1                       [Spoilers] Stannis and Renly\n",
       "1487      1                  [SPOILERS] A Very Specific Theory\n",
       "\n",
       "[1488 rows x 2 columns]"
      ]
     },
     "execution_count": 9,
     "metadata": {},
     "output_type": "execute_result"
    }
   ],
   "source": [
    "df  # data show\n",
    "# df.head()"
   ]
  },
  {
   "cell_type": "code",
   "execution_count": 32,
   "metadata": {
    "colab": {
     "base_uri": "https://localhost:8080/",
     "height": 486
    },
    "colab_type": "code",
    "id": "8hNfAZdOUo8z",
    "outputId": "001b355a-ce00-4ccb-a31b-ed5856efa8d3"
   },
   "outputs": [
    {
     "name": "stdout",
     "output_type": "stream",
     "text": [
      "datascience  =  894\n",
      "gameofthrones  =  594\n"
     ]
    },
    {
     "data": {
      "image/png": "[encoded data removed]",
      "text/plain": [
       "<Figure size 640x480 with 1 Axes>"
      ]
     },
     "metadata": {},
     "output_type": "display_data"
    }
   ],
   "source": [
    "import matplotlib.pyplot as plt; plt.rcdefaults()\n",
    "import numpy as np\n",
    "import matplotlib.pyplot as plt\n",
    "fig, ax = plt.subplots()  \n",
    "group_count = df.groupby('label').count()\n",
    "\n",
    "performance = list(group_count['title'])\n",
    "y_pos = np.arange(len(subreddits))\n",
    " \n",
    "plt.bar(y_pos, performance, align='center', alpha=0.5)\n",
    "plt.xticks(y_pos, subreddits)\n",
    "plt.ylabel('Number')\n",
    "plt.title('Subreddits')\n",
    "\n",
    "for index, value in enumerate(subreddits):\n",
    "  print(value, ' = ', performance[index])\n",
    "  \n",
    "plt.show()"
   ]
  },
  {
   "cell_type": "markdown",
   "metadata": {},
   "source": [
    "## Save Dataset"
   ]
  },
  {
   "cell_type": "code",
   "execution_count": 11,
   "metadata": {},
   "outputs": [],
   "source": [
    "df.to_csv('dataset.csv', header=True, index=False)  # .csv file\n",
    "# df.to_json('dataset.json')  # .json file"
   ]
  },
  {
   "cell_type": "markdown",
   "metadata": {
    "colab_type": "text",
    "id": "ywT6wNfHNou2"
   },
   "source": [
    "## Data spliting (Train - Test Split)\n",
    "train 70%  \n",
    "test 30%"
   ]
  },
  {
   "cell_type": "code",
   "execution_count": 12,
   "metadata": {
    "colab": {},
    "colab_type": "code",
    "id": "dI_6th0ST6Cy"
   },
   "outputs": [],
   "source": [
    "x = df['title']\n",
    "y = df['label']"
   ]
  },
  {
   "cell_type": "code",
   "execution_count": 13,
   "metadata": {
    "colab": {},
    "colab_type": "code",
    "id": "cA00qSZMMwZ5"
   },
   "outputs": [],
   "source": [
    "from sklearn.model_selection import train_test_split\n",
    "x_train, x_test, y_train, y_test = train_test_split(x, y, test_size=.3)"
   ]
  },
  {
   "cell_type": "markdown",
   "metadata": {
    "colab_type": "text",
    "id": "H_RsH-4TRLPP"
   },
   "source": [
    "# Feature Engineering"
   ]
  },
  {
   "cell_type": "markdown",
   "metadata": {
    "colab_type": "text",
    "id": "roSKpH3fRpRC"
   },
   "source": [
    "## Stop word"
   ]
  },
  {
   "cell_type": "code",
   "execution_count": 14,
   "metadata": {
    "colab": {},
    "colab_type": "code",
    "id": "kaBAgClBSc4T"
   },
   "outputs": [],
   "source": [
    "manual_stopwords = [',','.',')',',','(','m',\"'m\",\"n't\",'e.g',\"'ve\",'s','#',\n",
    "                    '/','``',\"'s\",\"''\",'!','r',']','=','[','s','&','%','*',\n",
    "                    '...','1','2','3','4','5','6','7','8','9','10','--',\n",
    "                    \"''\",';','-',':']"
   ]
  },
  {
   "cell_type": "code",
   "execution_count": 15,
   "metadata": {
    "colab": {},
    "colab_type": "code",
    "id": "hiB_GNNrRO6p"
   },
   "outputs": [],
   "source": [
    "from sklearn.feature_extraction import text\n",
    "stop_words = text.ENGLISH_STOP_WORDS\n",
    "\n",
    "# union with manual_stopwords\n",
    "stop_words = stop_words.union(manual_stopwords)"
   ]
  },
  {
   "cell_type": "code",
   "execution_count": 16,
   "metadata": {
    "colab": {
     "base_uri": "https://localhost:8080/",
     "height": 54
    },
    "colab_type": "code",
    "id": "YpgH1562RQat",
    "outputId": "d6250a0b-fe35-4e4a-af30-a31ca963c6dd"
   },
   "outputs": [
    {
     "name": "stdout",
     "output_type": "stream",
     "text": [
      "frozenset({'back', 'move', 'sometime', 'describe', 'across', 'any', 'first', 'had', 'hence', 'amoungst', 'whereafter', \"'ve\", 'although', 'call', 'through', 'ours', 'whereas', 'have', 'co', 'some', 'well', 'hers', 'forty', 'serious', 'her', 'then', 'onto', 'yet', 'elsewhere', 'please', 'another', '/', 'whatever', 'anyway', 'not', 'fifty', 'least', 'so', 'their', 'etc', 'we', 'fire', 'all', 'no', 'inc', 'now', 'every', 'towards', 'further', ']', 'over', 'system', 'when', 'being', 'nowhere', '...', '-', 'nothing', 'e.g', 'beyond', 'per', 'put', 'what', 'nobody', 'were', 'this', 'becoming', 'everything', 'therefore', 'down', 'of', 'whole', 'none', 'hasnt', 'six', 'mill', 'up', 'ltd', 'else', 'thereby', 'third', 'between', 'has', '4', 'fifteen', 'i', 'latter', 'which', 'cant', 'could', 'top', 'us', '6', 'if', 'thick', 's', 'amount', 'become', 'each', 'yourselves', 'eight', 'whom', 'yours', '!', '8', 'de', 'three', 'upon', 'became', 'during', 'that', 'perhaps', 'everywhere', 'already', 'to', ',', 'more', 'go', '``', '2', 'you', 'off', 'and', 're', 'under', 'but', 'nor', '--', 'in', 'as', '7', 'less', 'himself', 'seemed', 'ten', 'yourself', 'seem', 'wherein', 'herein', 'other', 'twelve', 'those', 'an', 'seems', 'below', 'find', 'anything', 'once', 'nevertheless', 'such', 'without', 'is', 'indeed', 'from', 'there', 'latterly', 'somehow', 'almost', 'm', 'whereby', 'because', 'un', 'get', 'sometimes', 'con', 'beside', 'mostly', 'namely', 'alone', 'wherever', 'eg', 'my', 'mine', 'whoever', 'against', '(', 'whenever', 'them', 'detail', 'often', 'by', '10', 'same', 'his', 'last', 'hereafter', 'otherwise', 'around', ':', 'cannot', 'into', 'about', 'couldnt', 'while', 'found', 'empty', 'thru', 'former', 'hereupon', 'myself', 'the', 'five', 'side', 'keep', 'ie', 'very', 'thereupon', 'whose', 'still', '3', 'she', 'moreover', 'can', 'he', 'themselves', 'most', '[', 'becomes', 'r', \"'m\", 'here', 'be', '*', 'except', 'several', 'ourselves', 'been', 'someone', \"'s\", 'enough', 'front', 'thereafter', 'full', 'out', 'must', 'thence', 'who', ';', 'among', 'however', 'sixty', 'a', 'at', 'too', 'few', 'everyone', 'show', 'give', 'nine', 'four', 'anyhow', 'therein', 'they', 'whether', '#', 'one', 'itself', 'whereupon', 'toward', '9', 'many', ')', 'with', 'how', 'interest', 'above', 'eleven', 'herself', 'formerly', \"''\", 'also', 'until', 'before', 'see', 'part', 'together', 'two', 'it', 'your', 'afterwards', 'neither', 'though', 'will', '%', 'might', 'than', 'both', 'was', '=', '&', 'him', 'fill', 'or', 'done', 'where', 'amongst', 'own', 'these', 'rather', '5', 'others', 'anywhere', 'anyone', 'noone', 'whence', 'do', 'somewhere', 'its', 'thin', 'twenty', \"n't\", 'on', '.', 'should', 'either', 'are', 'made', 'via', 'whither', 'why', 'our', 'due', 'never', 'meanwhile', 'take', 'sincere', 'bottom', 'cry', 'behind', 'something', 'am', 'would', 'bill', 'only', 'along', 'thus', 'always', 'much', 'throughout', 'besides', 'hundred', 'even', 'next', 'ever', 'within', 'may', 'me', 'hereby', 'beforehand', 'name', 'seeming', 'since', 'again', 'for', '1', 'after'})\n"
     ]
    }
   ],
   "source": [
    "print(stop_words)"
   ]
  },
  {
   "cell_type": "markdown",
   "metadata": {
    "colab_type": "text",
    "id": "HGYlFjM7RtdK"
   },
   "source": [
    "## Count Vectorizer"
   ]
  },
  {
   "cell_type": "code",
   "execution_count": 17,
   "metadata": {
    "colab": {},
    "colab_type": "code",
    "id": "le9Jp1NSRj5j"
   },
   "outputs": [],
   "source": [
    "from sklearn.feature_extraction.text import CountVectorizer\n",
    "\n",
    "max_features = 20\n",
    "count_vect = CountVectorizer(max_features=max_features, stop_words=stop_words)"
   ]
  },
  {
   "cell_type": "code",
   "execution_count": 18,
   "metadata": {
    "colab": {
     "base_uri": "https://localhost:8080/",
     "height": 156
    },
    "colab_type": "code",
    "id": "JroP1nZsS2A5",
    "outputId": "041dbc2a-ecde-42d6-a7e0-46fa2f1b44e9"
   },
   "outputs": [
    {
     "name": "stdout",
     "output_type": "stream",
     "text": [
      "CountVectorizer(analyzer='word', binary=False, decode_error='strict',\n",
      "        dtype=<class 'numpy.int64'>, encoding='utf-8', input='content',\n",
      "        lowercase=True, max_df=1.0, max_features=20, min_df=1,\n",
      "        ngram_range=(1, 1), preprocessor=None,\n",
      "        stop_words=frozenset({'back', 'move', 'sometime', 'describe', 'across', 'any', 'first', 'had', 'hence', 'amoungst', 'whereafter', \"'ve\", 'although', 'call', 'through', 'ours', 'whereas', 'have', 'co', 'some', 'well', 'hers', 'forty', 'serious', 'her', 'then', 'onto', 'yet', 'elsewhere', 'please', 'a...in', 'may', 'me', 'hereby', 'beforehand', 'name', 'seeming', 'since', 'again', 'for', '1', 'after'}),\n",
      "        strip_accents=None, token_pattern='(?u)\\\\b\\\\w\\\\w+\\\\b',\n",
      "        tokenizer=None, vocabulary=None)\n"
     ]
    }
   ],
   "source": [
    "print(count_vect)"
   ]
  },
  {
   "cell_type": "markdown",
   "metadata": {
    "colab_type": "text",
    "id": "2BxboZWZPJud"
   },
   "source": [
    "# Create Model"
   ]
  },
  {
   "cell_type": "markdown",
   "metadata": {
    "colab_type": "text",
    "id": "qZtucQRqTKOv"
   },
   "source": [
    "## Decision Tree"
   ]
  },
  {
   "cell_type": "code",
   "execution_count": 19,
   "metadata": {
    "colab": {},
    "colab_type": "code",
    "id": "shenB7YtPLde"
   },
   "outputs": [
    {
     "name": "stderr",
     "output_type": "stream",
     "text": [
      "C:\\Miniconda3\\lib\\site-packages\\sklearn\\feature_extraction\\text.py:286: UserWarning: Your stop_words may be inconsistent with your preprocessing. Tokenizing the stop words generated tokens ['ve'] not in stop_words.\n",
      "  sorted(inconsistent))\n"
     ]
    }
   ],
   "source": [
    "from sklearn.pipeline import Pipeline\n",
    "from sklearn import tree\n",
    "from sklearn.feature_extraction.text import TfidfTransformer\n",
    "\n",
    "model = Pipeline([('vect', count_vect),\n",
    "                  ('tfidf', TfidfTransformer()),\n",
    "                  ('clf', tree.DecisionTreeClassifier()),])\n",
    "\n",
    "model = model.fit(x_train, y_train)  # train model (run)"
   ]
  },
  {
   "cell_type": "code",
   "execution_count": 20,
   "metadata": {
    "colab": {
     "base_uri": "https://localhost:8080/",
     "height": 54
    },
    "colab_type": "code",
    "id": "mSlwkOMLetmw",
    "outputId": "cfa99d06-53e8-4314-889e-005fce045c94"
   },
   "outputs": [
    {
     "name": "stdout",
     "output_type": "stream",
     "text": [
      "['best', 'data', 'game', 'got', 'help', 'interview', 'jon', 'learning', 'looking', 'machine', 'model', 'project', 'python', 'question', 'science', 'scientist', 'season', 'spoilers', 'thrones', 'using']\n"
     ]
    }
   ],
   "source": [
    "# print feature names\n",
    "print(count_vect.get_feature_names())"
   ]
  },
  {
   "cell_type": "code",
   "execution_count": 21,
   "metadata": {
    "colab": {},
    "colab_type": "code",
    "id": "u6YjJYJ4s6f3"
   },
   "outputs": [
    {
     "data": {
      "text/plain": [
       "\" [NOTE] how to get model:\\nclf = model.named_steps['clf'] \""
      ]
     },
     "execution_count": 21,
     "metadata": {},
     "output_type": "execute_result"
    }
   ],
   "source": [
    "''' [NOTE] how to get model:\n",
    "clf = model.named_steps['clf'] '''"
   ]
  },
  {
   "cell_type": "markdown",
   "metadata": {
    "colab_type": "text",
    "id": "L9ParFVmPN5m"
   },
   "source": [
    "# Evaluate Model"
   ]
  },
  {
   "cell_type": "markdown",
   "metadata": {
    "colab_type": "text",
    "id": "PoWs3DrNP1Wk"
   },
   "source": [
    "## Prediction"
   ]
  },
  {
   "cell_type": "code",
   "execution_count": 22,
   "metadata": {
    "colab": {
     "base_uri": "https://localhost:8080/",
     "height": 238
    },
    "colab_type": "code",
    "id": "aJ9P9CHaP_ZX",
    "outputId": "3c2e1ec5-0ca6-4b53-8d1d-c151dd40725c"
   },
   "outputs": [
    {
     "name": "stdout",
     "output_type": "stream",
     "text": [
      "[0 0 0 1 0 1 1 1 1 0 1 0 0 0 0 1 0 0 1 1 0 1 0 1 0 1 0 1 0 1 1 0 0 0 1 0 0\n",
      " 1 0 1 1 0 1 1 0 0 1 1 1 0 1 0 0 0 0 1 0 0 0 1 0 0 1 0 1 0 1 1 1 1 0 1 0 0\n",
      " 1 1 0 1 0 0 0 0 1 0 0 0 1 1 0 1 0 0 0 1 0 0 1 0 0 1 0 0 1 1 1 0 0 1 0 0 0\n",
      " 0 1 1 1 0 0 0 0 1 0 0 0 0 1 1 1 1 1 0 0 1 1 1 0 0 1 0 1 1 0 0 1 0 0 0 0 1\n",
      " 1 1 0 0 1 1 0 1 0 0 1 1 1 0 1 0 0 0 0 1 0 1 0 0 0 0 0 0 0 0 1 0 0 0 0 1 0\n",
      " 0 1 1 1 1 1 1 0 1 0 0 1 1 1 0 0 0 0 0 0 1 0 0 0 0 0 1 0 0 1 0 0 0 1 0 1 0\n",
      " 0 1 0 0 0 0 0 0 1 1 0 0 0 0 0 0 1 1 1 0 0 0 0 0 0 0 0 1 0 0 1 1 0 1 1 0 0\n",
      " 0 1 1 0 0 1 0 1 1 1 1 0 0 1 0 1 1 0 0 0 0 0 1 1 0 1 0 1 0 1 0 1 0 0 1 1 0\n",
      " 0 0 1 0 0 0 1 0 0 1 0 0 0 1 0 0 1 0 0 0 1 1 0 1 0 0 0 0 0 0 0 1 0 0 1 1 0\n",
      " 0 1 1 0 1 0 1 0 1 1 0 1 0 1 1 0 0 0 1 1 0 0 0 0 0 1 0 0 1 1 0 0 1 1 1 0 0\n",
      " 0 1 0 1 0 1 0 0 1 0 1 0 1 1 0 0 1 1 0 0 1 0 0 1 0 0 0 0 0 1 1 0 0 0 0 1 0\n",
      " 0 1 1 1 0 0 0 0 0 0 0 0 0 1 0 0 1 1 0 1 1 1 1 1 0 1 0 1 0 1 1 0 1 1 1 0 0\n",
      " 0 1 0]\n"
     ]
    }
   ],
   "source": [
    "y_pred = model.predict(x_test)\n",
    "print(y_pred)"
   ]
  },
  {
   "cell_type": "markdown",
   "metadata": {
    "colab_type": "text",
    "id": "eDZYeW7TUPOL"
   },
   "source": [
    "## Confusion matrix"
   ]
  },
  {
   "cell_type": "code",
   "execution_count": 23,
   "metadata": {
    "colab": {},
    "colab_type": "code",
    "id": "JwtMEliIR8TH"
   },
   "outputs": [],
   "source": [
    "import matplotlib.pyplot as plt\n",
    "import numpy as np\n",
    "import itertools\n",
    "\n",
    "def plot_confusion_matrix(cm, classes,\n",
    "                          normalize=False,\n",
    "                          title='Confusion matrix',\n",
    "                          cmap=plt.cm.Blues):\n",
    "    \"\"\"\n",
    "    This function prints and plots the confusion matrix.\n",
    "    Normalization can be applied by setting `normalize=True`.\n",
    "    \"\"\"\n",
    "    if normalize:\n",
    "        cm = cm.astype('float') / cm.sum(axis=1)[:, np.newaxis]\n",
    "        print(\"Normalized confusion matrix\")\n",
    "    else:\n",
    "        print('Confusion matrix, without normalization')\n",
    "\n",
    "    print(cm)\n",
    "\n",
    "    plt.imshow(cm, interpolation='nearest', cmap=cmap)\n",
    "    plt.title(title)\n",
    "    plt.colorbar()\n",
    "    tick_marks = np.arange(len(classes))\n",
    "    plt.xticks(tick_marks, classes, rotation=45)\n",
    "    plt.yticks(tick_marks, classes)\n",
    "\n",
    "    fmt = '.2f' if normalize else 'd'\n",
    "    thresh = cm.max() / 2.\n",
    "    for i, j in itertools.product(range(cm.shape[0]), range(cm.shape[1])):\n",
    "        plt.text(j, i, format(cm[i, j], fmt),\n",
    "                 horizontalalignment=\"center\",\n",
    "                 color=\"white\" if cm[i, j] > thresh else \"black\")\n",
    "\n",
    "    plt.ylabel('True label')\n",
    "    plt.xlabel('Predicted label')\n",
    "    plt.tight_layout()\n"
   ]
  },
  {
   "cell_type": "code",
   "execution_count": 33,
   "metadata": {
    "colab": {
     "base_uri": "https://localhost:8080/",
     "height": 475
    },
    "colab_type": "code",
    "id": "BkmR4IzsRowV",
    "outputId": "feb3da90-5a4a-4ef8-92f2-d30bbeabdfce"
   },
   "outputs": [
    {
     "name": "stdout",
     "output_type": "stream",
     "text": [
      "Confusion matrix, without normalization\n",
      "[[264   1]\n",
      " [  0 182]]\n"
     ]
    },
    {
     "data": {
      "image/png": "[encoded data removed]",
      "text/plain": [
       "<Figure size 640x480 with 2 Axes>"
      ]
     },
     "metadata": {},
     "output_type": "display_data"
    }
   ],
   "source": [
    "from sklearn.metrics import confusion_matrix\n",
    "cnf_matrix = confusion_matrix(y_test, y_pred)  # caculate Confusion matrix\n",
    "\n",
    "plot_confusion_matrix(cnf_matrix, classes=subreddits,\n",
    "                      title='Decision Tree')\n",
    "\n",
    "plt.show()  # show"
   ]
  },
  {
   "cell_type": "markdown",
   "metadata": {
    "colab_type": "text",
    "id": "WwUq3AO1U26z"
   },
   "source": [
    "## Accuracy score"
   ]
  },
  {
   "cell_type": "code",
   "execution_count": 25,
   "metadata": {
    "colab": {
     "base_uri": "https://localhost:8080/",
     "height": 34
    },
    "colab_type": "code",
    "id": "TIdCWSo2UTJ2",
    "outputId": "fe7c7ed3-353e-429f-fef8-45f0bea0c17e"
   },
   "outputs": [
    {
     "name": "stdout",
     "output_type": "stream",
     "text": [
      "99.77628635346755 %\n"
     ]
    }
   ],
   "source": [
    "from sklearn.metrics import accuracy_score\n",
    "print(accuracy_score(y_test, y_pred) * 100, '%')"
   ]
  },
  {
   "cell_type": "markdown",
   "metadata": {
    "colab_type": "text",
    "id": "iJ0erOvJVYUw"
   },
   "source": [
    "## F-measure"
   ]
  },
  {
   "cell_type": "code",
   "execution_count": 26,
   "metadata": {
    "colab": {
     "base_uri": "https://localhost:8080/",
     "height": 136
    },
    "colab_type": "code",
    "id": "NCYH8MGjVHtN",
    "outputId": "4aa03d74-4c46-4954-d5e1-89bea71fe3a1"
   },
   "outputs": [
    {
     "name": "stdout",
     "output_type": "stream",
     "text": [
      "              precision    recall  f1-score   support\n",
      "\n",
      "           0       1.00      1.00      1.00       265\n",
      "           1       0.99      1.00      1.00       182\n",
      "\n",
      "   micro avg       1.00      1.00      1.00       447\n",
      "   macro avg       1.00      1.00      1.00       447\n",
      "weighted avg       1.00      1.00      1.00       447\n",
      "\n"
     ]
    }
   ],
   "source": [
    "from sklearn.metrics import classification_report\n",
    "print(classification_report(y_test, y_pred))"
   ]
  },
  {
   "cell_type": "markdown",
   "metadata": {
    "colab_type": "text",
    "id": "-XiBlKefvRWy"
   },
   "source": [
    "## Model Visualization\n",
    "For windows: https://graphviz.gitlab.io/_pages/Download/Download_windows.html  \n",
    "All OS: https://graphviz.gitlab.io/download/"
   ]
  },
  {
   "cell_type": "code",
   "execution_count": 27,
   "metadata": {
    "colab": {},
    "colab_type": "code",
    "id": "5CjibAsNvOk-"
   },
   "outputs": [],
   "source": [
    "# append graphviz program to os path\n",
    "# append <...path...>\\\\bin\n",
    "import os\n",
    "os.environ[\"PATH\"] += os.pathsep + 'C:\\\\Program Files (x86)\\\\graphviz-2.38\\\\bin\\\\'"
   ]
  },
  {
   "cell_type": "code",
   "execution_count": 28,
   "metadata": {
    "colab": {},
    "colab_type": "code",
    "id": "UDB64UbgeOZ0"
   },
   "outputs": [
    {
     "data": {
      "image/svg+xml": [
       "<?xml version=\"1.0\" encoding=\"UTF-8\" standalone=\"no\"?>\r\n",
       "<!DOCTYPE svg PUBLIC \"-//W3C//DTD SVG 1.1//EN\"\r\n",
       " \"http://www.w3.org/Graphics/SVG/1.1/DTD/svg11.dtd\">\r\n",
       "<!-- Generated by graphviz version 2.38.0 (20140413.2041)\r\n",
       " -->\r\n",
       "<!-- Title: Tree Pages: 1 -->\r\n",
       "<svg width=\"313pt\" height=\"269pt\"\r\n",
       " viewBox=\"0.00 0.00 313.00 269.00\" xmlns=\"http://www.w3.org/2000/svg\" xmlns:xlink=\"http://www.w3.org/1999/xlink\">\r\n",
       "<g id=\"graph0\" class=\"graph\" transform=\"scale(1 1) rotate(0) translate(4 265)\">\r\n",
       "<title>Tree</title>\r\n",
       "<polygon fill=\"white\" stroke=\"none\" points=\"-4,4 -4,-265 309,-265 309,4 -4,4\"/>\r\n",
       "<!-- 0 -->\r\n",
       "<g id=\"node1\" class=\"node\"><title>0</title>\r\n",
       "<path fill=\"#e58139\" fill-opacity=\"0.345098\" stroke=\"black\" d=\"M235.5,-261C235.5,-261 129.5,-261 129.5,-261 123.5,-261 117.5,-255 117.5,-249 117.5,-249 117.5,-205 117.5,-205 117.5,-199 123.5,-193 129.5,-193 129.5,-193 235.5,-193 235.5,-193 241.5,-193 247.5,-199 247.5,-205 247.5,-205 247.5,-249 247.5,-249 247.5,-255 241.5,-261 235.5,-261\"/>\r\n",
       "<text text-anchor=\"middle\" x=\"182.5\" y=\"-245.8\" font-family=\"Helvetica,sans-Serif\" font-size=\"14.00\">spoilers &lt;= 0.106</text>\r\n",
       "<text text-anchor=\"middle\" x=\"182.5\" y=\"-230.8\" font-family=\"Helvetica,sans-Serif\" font-size=\"14.00\">gini = 0.478</text>\r\n",
       "<text text-anchor=\"middle\" x=\"182.5\" y=\"-215.8\" font-family=\"Helvetica,sans-Serif\" font-size=\"14.00\">samples = 1041</text>\r\n",
       "<text text-anchor=\"middle\" x=\"182.5\" y=\"-200.8\" font-family=\"Helvetica,sans-Serif\" font-size=\"14.00\">value = [629, 412]</text>\r\n",
       "</g>\r\n",
       "<!-- 1 -->\r\n",
       "<g id=\"node2\" class=\"node\"><title>1</title>\r\n",
       "<path fill=\"#e58139\" fill-opacity=\"0.996078\" stroke=\"black\" d=\"M162,-157C162,-157 73,-157 73,-157 67,-157 61,-151 61,-145 61,-145 61,-101 61,-101 61,-95 67,-89 73,-89 73,-89 162,-89 162,-89 168,-89 174,-95 174,-101 174,-101 174,-145 174,-145 174,-151 168,-157 162,-157\"/>\r\n",
       "<text text-anchor=\"middle\" x=\"117.5\" y=\"-141.8\" font-family=\"Helvetica,sans-Serif\" font-size=\"14.00\">game &lt;= 0.351</text>\r\n",
       "<text text-anchor=\"middle\" x=\"117.5\" y=\"-126.8\" font-family=\"Helvetica,sans-Serif\" font-size=\"14.00\">gini = 0.006</text>\r\n",
       "<text text-anchor=\"middle\" x=\"117.5\" y=\"-111.8\" font-family=\"Helvetica,sans-Serif\" font-size=\"14.00\">samples = 631</text>\r\n",
       "<text text-anchor=\"middle\" x=\"117.5\" y=\"-96.8\" font-family=\"Helvetica,sans-Serif\" font-size=\"14.00\">value = [629, 2]</text>\r\n",
       "</g>\r\n",
       "<!-- 0&#45;&gt;1 -->\r\n",
       "<g id=\"edge1\" class=\"edge\"><title>0&#45;&gt;1</title>\r\n",
       "<path fill=\"none\" stroke=\"black\" d=\"M161.396,-192.884C155.89,-184.243 149.885,-174.819 144.133,-165.793\"/>\r\n",
       "<polygon fill=\"black\" stroke=\"black\" points=\"147.046,-163.852 138.72,-157.299 141.143,-167.614 147.046,-163.852\"/>\r\n",
       "<text text-anchor=\"middle\" x=\"133.312\" y=\"-178.007\" font-family=\"Helvetica,sans-Serif\" font-size=\"14.00\">True</text>\r\n",
       "</g>\r\n",
       "<!-- 4 -->\r\n",
       "<g id=\"node5\" class=\"node\"><title>4</title>\r\n",
       "<path fill=\"#399de5\" stroke=\"black\" d=\"M293,-149.5C293,-149.5 204,-149.5 204,-149.5 198,-149.5 192,-143.5 192,-137.5 192,-137.5 192,-108.5 192,-108.5 192,-102.5 198,-96.5 204,-96.5 204,-96.5 293,-96.5 293,-96.5 299,-96.5 305,-102.5 305,-108.5 305,-108.5 305,-137.5 305,-137.5 305,-143.5 299,-149.5 293,-149.5\"/>\r\n",
       "<text text-anchor=\"middle\" x=\"248.5\" y=\"-134.3\" font-family=\"Helvetica,sans-Serif\" font-size=\"14.00\">gini = 0.0</text>\r\n",
       "<text text-anchor=\"middle\" x=\"248.5\" y=\"-119.3\" font-family=\"Helvetica,sans-Serif\" font-size=\"14.00\">samples = 410</text>\r\n",
       "<text text-anchor=\"middle\" x=\"248.5\" y=\"-104.3\" font-family=\"Helvetica,sans-Serif\" font-size=\"14.00\">value = [0, 410]</text>\r\n",
       "</g>\r\n",
       "<!-- 0&#45;&gt;4 -->\r\n",
       "<g id=\"edge4\" class=\"edge\"><title>0&#45;&gt;4</title>\r\n",
       "<path fill=\"none\" stroke=\"black\" d=\"M203.928,-192.884C211.116,-181.776 219.142,-169.372 226.381,-158.184\"/>\r\n",
       "<polygon fill=\"black\" stroke=\"black\" points=\"229.493,-159.817 231.987,-149.52 223.616,-156.014 229.493,-159.817\"/>\r\n",
       "<text text-anchor=\"middle\" x=\"237.225\" y=\"-170.265\" font-family=\"Helvetica,sans-Serif\" font-size=\"14.00\">False</text>\r\n",
       "</g>\r\n",
       "<!-- 2 -->\r\n",
       "<g id=\"node3\" class=\"node\"><title>2</title>\r\n",
       "<path fill=\"#e58139\" stroke=\"black\" d=\"M101,-53C101,-53 12,-53 12,-53 6,-53 0,-47 0,-41 0,-41 0,-12 0,-12 0,-6 6,-0 12,-0 12,-0 101,-0 101,-0 107,-0 113,-6 113,-12 113,-12 113,-41 113,-41 113,-47 107,-53 101,-53\"/>\r\n",
       "<text text-anchor=\"middle\" x=\"56.5\" y=\"-37.8\" font-family=\"Helvetica,sans-Serif\" font-size=\"14.00\">gini = 0.0</text>\r\n",
       "<text text-anchor=\"middle\" x=\"56.5\" y=\"-22.8\" font-family=\"Helvetica,sans-Serif\" font-size=\"14.00\">samples = 629</text>\r\n",
       "<text text-anchor=\"middle\" x=\"56.5\" y=\"-7.8\" font-family=\"Helvetica,sans-Serif\" font-size=\"14.00\">value = [629, 0]</text>\r\n",
       "</g>\r\n",
       "<!-- 1&#45;&gt;2 -->\r\n",
       "<g id=\"edge2\" class=\"edge\"><title>1&#45;&gt;2</title>\r\n",
       "<path fill=\"none\" stroke=\"black\" d=\"M96.1652,-88.9485C90.4963,-80.1664 84.3618,-70.6629 78.6504,-61.815\"/>\r\n",
       "<polygon fill=\"black\" stroke=\"black\" points=\"81.477,-59.7402 73.1131,-53.2367 75.5959,-63.5365 81.477,-59.7402\"/>\r\n",
       "</g>\r\n",
       "<!-- 3 -->\r\n",
       "<g id=\"node4\" class=\"node\"><title>3</title>\r\n",
       "<path fill=\"#399de5\" stroke=\"black\" d=\"M216,-53C216,-53 143,-53 143,-53 137,-53 131,-47 131,-41 131,-41 131,-12 131,-12 131,-6 137,-0 143,-0 143,-0 216,-0 216,-0 222,-0 228,-6 228,-12 228,-12 228,-41 228,-41 228,-47 222,-53 216,-53\"/>\r\n",
       "<text text-anchor=\"middle\" x=\"179.5\" y=\"-37.8\" font-family=\"Helvetica,sans-Serif\" font-size=\"14.00\">gini = 0.0</text>\r\n",
       "<text text-anchor=\"middle\" x=\"179.5\" y=\"-22.8\" font-family=\"Helvetica,sans-Serif\" font-size=\"14.00\">samples = 2</text>\r\n",
       "<text text-anchor=\"middle\" x=\"179.5\" y=\"-7.8\" font-family=\"Helvetica,sans-Serif\" font-size=\"14.00\">value = [0, 2]</text>\r\n",
       "</g>\r\n",
       "<!-- 1&#45;&gt;3 -->\r\n",
       "<g id=\"edge3\" class=\"edge\"><title>1&#45;&gt;3</title>\r\n",
       "<path fill=\"none\" stroke=\"black\" d=\"M139.185,-88.9485C144.946,-80.1664 151.181,-70.6629 156.986,-61.815\"/>\r\n",
       "<polygon fill=\"black\" stroke=\"black\" points=\"160.055,-63.5178 162.615,-53.2367 154.203,-59.6779 160.055,-63.5178\"/>\r\n",
       "</g>\r\n",
       "</g>\r\n",
       "</svg>\r\n"
      ],
      "text/plain": [
       "<graphviz.files.Source at 0x1a75911dac8>"
      ]
     },
     "execution_count": 28,
     "metadata": {},
     "output_type": "execute_result"
    }
   ],
   "source": [
    "from sklearn.tree import export_graphviz\n",
    "from IPython.display import SVG\n",
    "from graphviz import Source\n",
    "\n",
    "\n",
    "feature_names = count_vect.get_feature_names()\n",
    "\n",
    "\n",
    "graph = Source(export_graphviz(model.named_steps['clf'],\n",
    "                               out_file=None,\n",
    "                               feature_names=feature_names,\n",
    "                               filled=True,\n",
    "                               rounded=True))\n",
    "\n",
    "graph.format = 'svg'  # filename tye (svg, png, pdf)\n",
    "filename = 'reddit_submission_tree'\n",
    "graph.render(filename)  # graph save\n",
    "Source.from_file(filename)  # graph show"
   ]
  },
  {
   "cell_type": "code",
   "execution_count": 29,
   "metadata": {},
   "outputs": [],
   "source": [
    "# filename = 'filename'\n",
    "# graph.render(filename)  # graph save\n",
    "# graph.render(filename, view=True)  # save and show graph\n",
    "\n",
    "# Source.from_file(filename)  # load from file and show now\n",
    "\n",
    "# SVG(graph.pipe(format='svg'))  show tree graph in notebook without save"
   ]
  },
  {
   "cell_type": "markdown",
   "metadata": {
    "colab_type": "text",
    "id": "79nyNC-6Qk1F"
   },
   "source": [
    "# Save model"
   ]
  },
  {
   "cell_type": "code",
   "execution_count": 31,
   "metadata": {
    "colab": {
     "base_uri": "https://localhost:8080/",
     "height": 34
    },
    "colab_type": "code",
    "id": "3HWJaoXEQmZt",
    "outputId": "563e2592-3143-418c-f389-d64c214e158d"
   },
   "outputs": [
    {
     "data": {
      "text/plain": [
       "['decision_tree.model']"
      ]
     },
     "execution_count": 31,
     "metadata": {},
     "output_type": "execute_result"
    }
   ],
   "source": [
    "from sklearn.externals import joblib\n",
    "\n",
    "filename = 'decision_tree.model'\n",
    "joblib.dump(model, filename)\n",
    "\n",
    "# joblib.load(filename)  # load model"
   ]
  }
 ],
 "metadata": {
  "accelerator": "GPU",
  "colab": {
   "collapsed_sections": [],
   "name": "hello_bigdata.ipynb",
   "provenance": [],
   "toc_visible": true,
   "version": "0.3.2"
  },
  "kernelspec": {
   "display_name": "Python 3",
   "language": "python",
   "name": "python3"
  },
  "language_info": {
   "codemirror_mode": {
    "name": "ipython",
    "version": 3
   },
   "file_extension": ".py",
   "mimetype": "text/x-python",
   "name": "python",
   "nbconvert_exporter": "python",
   "pygments_lexer": "ipython3",
   "version": "3.6.4"
  }
 },
 "nbformat": 4,
 "nbformat_minor": 1
}
