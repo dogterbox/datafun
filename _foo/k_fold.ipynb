{
  "nbformat": 4,
  "nbformat_minor": 0,
  "metadata": {
    "colab": {
      "name": "k_fold.ipynb",
      "version": "0.3.2",
      "provenance": [],
      "collapsed_sections": [],
      "include_colab_link": true
    },
    "kernelspec": {
      "name": "python3",
      "display_name": "Python 3"
    }
  },
  "cells": [
    {
      "cell_type": "markdown",
      "metadata": {
        "id": "view-in-github",
        "colab_type": "text"
      },
      "source": [
        "<a href=\"https://colab.research.google.com/github/dogterbox/datafun/blob/master/_foo/k_fold.ipynb\" target=\"_parent\"><img src=\"https://colab.research.google.com/assets/colab-badge.svg\" alt=\"Open In Colab\"/></a>"
      ]
    },
    {
      "metadata": {
        "id": "wAdN2rvwQKOg",
        "colab_type": "code",
        "colab": {}
      },
      "cell_type": "code",
      "source": [
        "from sklearn.model_selection import KFold\n",
        "import numpy as np\n",
        "X = np.array([[1, 1], [2, 2], [3, 3], [4, 4], [5, 5], [6, 6], [7, 7], [8, 8], [9, 9], [10, 10],[9, 9], [10, 10]])\n",
        "y = np.array([1, 2, 3, 4,5,6,7,8,9,10])"
      ],
      "execution_count": 0,
      "outputs": []
    },
    {
      "metadata": {
        "id": "u2PajkWbRtOL",
        "colab_type": "code",
        "outputId": "da63f669-33b7-426d-fa3e-a30caf51f96b",
        "colab": {
          "base_uri": "https://localhost:8080/",
          "height": 272
        }
      },
      "cell_type": "code",
      "source": [
        "kf = KFold(n_splits=3)\n",
        "kf.get_n_splits(X)\n",
        "# print(kf)\n",
        "\n",
        "for train_index, test_index in kf.split(X):\n",
        "  print(\"TRAIN:\", train_index, \"TEST:\", test_index)\n",
        "  print(X[test_index])"
      ],
      "execution_count": 3,
      "outputs": [
        {
          "output_type": "stream",
          "text": [
            "TRAIN: [ 4  5  6  7  8  9 10 11] TEST: [0 1 2 3]\n",
            "[[1 1]\n",
            " [2 2]\n",
            " [3 3]\n",
            " [4 4]]\n",
            "TRAIN: [ 0  1  2  3  8  9 10 11] TEST: [4 5 6 7]\n",
            "[[5 5]\n",
            " [6 6]\n",
            " [7 7]\n",
            " [8 8]]\n",
            "TRAIN: [0 1 2 3 4 5 6 7] TEST: [ 8  9 10 11]\n",
            "[[ 9  9]\n",
            " [10 10]\n",
            " [ 9  9]\n",
            " [10 10]]\n"
          ],
          "name": "stdout"
        }
      ]
    },
    {
      "metadata": {
        "id": "U9skYtalsFKo",
        "colab_type": "code",
        "colab": {}
      },
      "cell_type": "code",
      "source": [
        ""
      ],
      "execution_count": 0,
      "outputs": []
    }
  ]
}